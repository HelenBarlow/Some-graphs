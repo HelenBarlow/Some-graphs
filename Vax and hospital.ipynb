{
 "cells": [
  {
   "cell_type": "raw",
   "id": "89469d31",
   "metadata": {},
   "source": [
    "Case data: https://data.nsw.gov.au/nsw-covid-19-data/cases\n",
    "Hospital data: https://covidlive.com.au/report/daily-hospitalised/nsw\n",
    "Vaccine data: https://www.covid19data.com.au/vaccines\n",
    "Death data: https://www.covid19data.com.au/deaths"
   ]
  },
  {
   "cell_type": "code",
   "execution_count": 120,
   "id": "dc8785ff",
   "metadata": {},
   "outputs": [],
   "source": [
    "import pandas as pd\n",
    "import numpy as np\n",
    "import matplotlib.pyplot as plt\n",
    "import seaborn as sns\n",
    "import datetime as dt\n",
    "import plotly.express as px\n",
    "import plotly.graph_objects as go\n",
    "from plotly.subplots import make_subplots"
   ]
  },
  {
   "cell_type": "code",
   "execution_count": 2,
   "id": "2e438271",
   "metadata": {},
   "outputs": [],
   "source": [
    "cases = pd.read_csv(\"confirmed_cases_table2_age_group.csv\")"
   ]
  },
  {
   "cell_type": "code",
   "execution_count": 3,
   "id": "5df3282d",
   "metadata": {
    "scrolled": true
   },
   "outputs": [],
   "source": [
    "case_nums = cases.groupby(by = 'notification_date', as_index = False).size()"
   ]
  },
  {
   "cell_type": "code",
   "execution_count": 4,
   "id": "cfbd8a63",
   "metadata": {},
   "outputs": [
    {
     "data": {
      "text/html": [
       "<div>\n",
       "<style scoped>\n",
       "    .dataframe tbody tr th:only-of-type {\n",
       "        vertical-align: middle;\n",
       "    }\n",
       "\n",
       "    .dataframe tbody tr th {\n",
       "        vertical-align: top;\n",
       "    }\n",
       "\n",
       "    .dataframe thead th {\n",
       "        text-align: right;\n",
       "    }\n",
       "</style>\n",
       "<table border=\"1\" class=\"dataframe\">\n",
       "  <thead>\n",
       "    <tr style=\"text-align: right;\">\n",
       "      <th></th>\n",
       "      <th>notification_date</th>\n",
       "      <th>size</th>\n",
       "    </tr>\n",
       "  </thead>\n",
       "  <tbody>\n",
       "    <tr>\n",
       "      <th>0</th>\n",
       "      <td>2021-06-29</td>\n",
       "      <td>31</td>\n",
       "    </tr>\n",
       "    <tr>\n",
       "      <th>1</th>\n",
       "      <td>2021-06-30</td>\n",
       "      <td>31</td>\n",
       "    </tr>\n",
       "    <tr>\n",
       "      <th>2</th>\n",
       "      <td>2021-07-01</td>\n",
       "      <td>31</td>\n",
       "    </tr>\n",
       "    <tr>\n",
       "      <th>3</th>\n",
       "      <td>2021-07-02</td>\n",
       "      <td>42</td>\n",
       "    </tr>\n",
       "    <tr>\n",
       "      <th>4</th>\n",
       "      <td>2021-07-03</td>\n",
       "      <td>24</td>\n",
       "    </tr>\n",
       "    <tr>\n",
       "      <th>...</th>\n",
       "      <td>...</td>\n",
       "      <td>...</td>\n",
       "    </tr>\n",
       "    <tr>\n",
       "      <th>102</th>\n",
       "      <td>2021-10-09</td>\n",
       "      <td>506</td>\n",
       "    </tr>\n",
       "    <tr>\n",
       "      <th>103</th>\n",
       "      <td>2021-10-10</td>\n",
       "      <td>444</td>\n",
       "    </tr>\n",
       "    <tr>\n",
       "      <th>104</th>\n",
       "      <td>2021-10-11</td>\n",
       "      <td>373</td>\n",
       "    </tr>\n",
       "    <tr>\n",
       "      <th>105</th>\n",
       "      <td>2021-10-12</td>\n",
       "      <td>439</td>\n",
       "    </tr>\n",
       "    <tr>\n",
       "      <th>106</th>\n",
       "      <td>2021-10-13</td>\n",
       "      <td>346</td>\n",
       "    </tr>\n",
       "  </tbody>\n",
       "</table>\n",
       "<p>107 rows × 2 columns</p>\n",
       "</div>"
      ],
      "text/plain": [
       "    notification_date  size\n",
       "0          2021-06-29    31\n",
       "1          2021-06-30    31\n",
       "2          2021-07-01    31\n",
       "3          2021-07-02    42\n",
       "4          2021-07-03    24\n",
       "..                ...   ...\n",
       "102        2021-10-09   506\n",
       "103        2021-10-10   444\n",
       "104        2021-10-11   373\n",
       "105        2021-10-12   439\n",
       "106        2021-10-13   346\n",
       "\n",
       "[107 rows x 2 columns]"
      ]
     },
     "execution_count": 4,
     "metadata": {},
     "output_type": "execute_result"
    }
   ],
   "source": [
    "case_nums"
   ]
  },
  {
   "cell_type": "code",
   "execution_count": 5,
   "id": "b067b135",
   "metadata": {
    "scrolled": true
   },
   "outputs": [
    {
     "name": "stderr",
     "output_type": "stream",
     "text": [
      "<ipython-input-5-ebca10bbeaa1>:3: SettingWithCopyWarning: \n",
      "A value is trying to be set on a copy of a slice from a DataFrame\n",
      "\n",
      "See the caveats in the documentation: https://pandas.pydata.org/pandas-docs/stable/user_guide/indexing.html#returning-a-view-versus-a-copy\n",
      "  case_nums['smooth'][i+7] = (case_nums['size'][i]+case_nums['size'][i+1]+case_nums['size'][i+2]+case_nums['size'][i+3]+case_nums['size'][i+4]+case_nums['size'][i+5]+case_nums['size'][i+6])/7\n"
     ]
    }
   ],
   "source": [
    "case_nums['smooth'] = [0]*len(case_nums)\n",
    "for i in range(0,len(case_nums)-7):\n",
    "    case_nums['smooth'][i+7] = (case_nums['size'][i]+case_nums['size'][i+1]+case_nums['size'][i+2]+case_nums['size'][i+3]+case_nums['size'][i+4]+case_nums['size'][i+5]+case_nums['size'][i+6])/7"
   ]
  },
  {
   "cell_type": "code",
   "execution_count": 6,
   "id": "f64bfb4a",
   "metadata": {},
   "outputs": [],
   "source": [
    "case_nums.set_index('notification_date',inplace=True)"
   ]
  },
  {
   "cell_type": "code",
   "execution_count": 7,
   "id": "3e165410",
   "metadata": {},
   "outputs": [
    {
     "data": {
      "text/plain": [
       "<AxesSubplot:xlabel='notification_date'>"
      ]
     },
     "execution_count": 7,
     "metadata": {},
     "output_type": "execute_result"
    },
    {
     "data": {
      "image/png": "[encoded data removed]",
      "text/plain": [
       "<Figure size 1008x576 with 1 Axes>"
      ]
     },
     "metadata": {
      "needs_background": "light"
     },
     "output_type": "display_data"
    }
   ],
   "source": [
    "case_nums['size'].plot.bar(\n",
    "    figsize = [14,8],\n",
    "    color = 'skyblue'\n",
    ")\n",
    "case_nums['smooth'].plot(\n",
    "    color = 'darkblue'\n",
    ")"
   ]
  },
  {
   "cell_type": "code",
   "execution_count": 8,
   "id": "82fcbc53",
   "metadata": {},
   "outputs": [],
   "source": [
    "hosp = pd.read_csv(\"hospNSW.csv\",parse_dates=True)\n",
    "#hosp.dropna(inplace=True)"
   ]
  },
  {
   "cell_type": "code",
   "execution_count": 9,
   "id": "9e74f062",
   "metadata": {
    "scrolled": true
   },
   "outputs": [
    {
     "name": "stdout",
     "output_type": "stream",
     "text": [
      "<class 'pandas.core.frame.DataFrame'>\n",
      "Int64Index: 127 entries, 126 to 0\n",
      "Data columns (total 4 columns):\n",
      " #   Column  Non-Null Count  Dtype         \n",
      "---  ------  --------------  -----         \n",
      " 0   DATE    127 non-null    datetime64[ns]\n",
      " 1   HOSP    127 non-null    int32         \n",
      " 2   ICU     127 non-null    int64         \n",
      " 3   VENT    127 non-null    int64         \n",
      "dtypes: datetime64[ns](1), int32(1), int64(2)\n",
      "memory usage: 4.5 KB\n"
     ]
    }
   ],
   "source": [
    "hosp['DATE'] = hosp['DATE'].astype('datetime64')\n",
    "hosp.sort_values('DATE',inplace=True)\n",
    "hosp['HOSP'] = hosp['HOSP'].str.replace(',','')\n",
    "hosp[['HOSP']] = hosp[['HOSP']].astype('int')\n",
    "                \n",
    "hosp.info()\n"
   ]
  },
  {
   "cell_type": "code",
   "execution_count": 10,
   "id": "819a8906",
   "metadata": {
    "scrolled": true
   },
   "outputs": [
    {
     "data": {
      "text/plain": [
       "<AxesSubplot:xlabel='DATE'>"
      ]
     },
     "execution_count": 10,
     "metadata": {},
     "output_type": "execute_result"
    },
    {
     "data": {
      "image/png": "[encoded data removed]",
      "text/plain": [
       "<Figure size 432x288 with 1 Axes>"
      ]
     },
     "metadata": {
      "needs_background": "light"
     },
     "output_type": "display_data"
    }
   ],
   "source": [
    "hosp.plot(\n",
    "    x = 'DATE',\n",
    "    y = ['HOSP','ICU','VENT']\n",
    ")"
   ]
  },
  {
   "cell_type": "code",
   "execution_count": 11,
   "id": "063ad38e",
   "metadata": {},
   "outputs": [],
   "source": [
    "vax1 = pd.read_csv(\"At least 1 dose.csv\")#,parse_dates=True)\n",
    "vax2 = pd.read_csv(\"2 Doses.csv\")#,parse_dates=True)"
   ]
  },
  {
   "cell_type": "code",
   "execution_count": 12,
   "id": "264a7c1d",
   "metadata": {},
   "outputs": [],
   "source": [
    "vax = pd.merge(vax1,vax2,how='outer',on='Unnamed: 0')\n",
    "vax = vax[['Unnamed: 0','NSW_x','NSW_y']]\n",
    "vax.rename(columns={'Unnamed: 0': 'DATE','NSW_x': 'ONE_DOSE','NSW_y': 'TWO_DOSES'}, inplace=True)\n",
    "#vax = vax.fillna(0)\n"
   ]
  },
  {
   "cell_type": "code",
   "execution_count": 13,
   "id": "ebedcd47",
   "metadata": {},
   "outputs": [],
   "source": [
    "vax['DATE']=\"2021-\"+vax['DATE'].str.slice(start=-2)+\"-\"+vax['DATE'].str.slice(stop=2)\n",
    "vax['DATE']=vax['DATE'].astype('datetime64')"
   ]
  },
  {
   "cell_type": "code",
   "execution_count": 14,
   "id": "df368b3a",
   "metadata": {},
   "outputs": [
    {
     "data": {
      "text/html": [
       "<div>\n",
       "<style scoped>\n",
       "    .dataframe tbody tr th:only-of-type {\n",
       "        vertical-align: middle;\n",
       "    }\n",
       "\n",
       "    .dataframe tbody tr th {\n",
       "        vertical-align: top;\n",
       "    }\n",
       "\n",
       "    .dataframe thead th {\n",
       "        text-align: right;\n",
       "    }\n",
       "</style>\n",
       "<table border=\"1\" class=\"dataframe\">\n",
       "  <thead>\n",
       "    <tr style=\"text-align: right;\">\n",
       "      <th></th>\n",
       "      <th>DATE</th>\n",
       "      <th>ONE_DOSE</th>\n",
       "      <th>TWO_DOSES</th>\n",
       "    </tr>\n",
       "  </thead>\n",
       "  <tbody>\n",
       "    <tr>\n",
       "      <th>231</th>\n",
       "      <td>2021-10-10</td>\n",
       "      <td>5931034</td>\n",
       "      <td>4827636.0</td>\n",
       "    </tr>\n",
       "    <tr>\n",
       "      <th>232</th>\n",
       "      <td>2021-10-11</td>\n",
       "      <td>5938082</td>\n",
       "      <td>4856736.0</td>\n",
       "    </tr>\n",
       "    <tr>\n",
       "      <th>233</th>\n",
       "      <td>2021-10-12</td>\n",
       "      <td>5959853</td>\n",
       "      <td>4939216.0</td>\n",
       "    </tr>\n",
       "    <tr>\n",
       "      <th>234</th>\n",
       "      <td>2021-10-13</td>\n",
       "      <td>5981468</td>\n",
       "      <td>5025898.0</td>\n",
       "    </tr>\n",
       "    <tr>\n",
       "      <th>235</th>\n",
       "      <td>2021-10-14</td>\n",
       "      <td>6000795</td>\n",
       "      <td>5105834.0</td>\n",
       "    </tr>\n",
       "  </tbody>\n",
       "</table>\n",
       "</div>"
      ],
      "text/plain": [
       "          DATE  ONE_DOSE  TWO_DOSES\n",
       "231 2021-10-10   5931034  4827636.0\n",
       "232 2021-10-11   5938082  4856736.0\n",
       "233 2021-10-12   5959853  4939216.0\n",
       "234 2021-10-13   5981468  5025898.0\n",
       "235 2021-10-14   6000795  5105834.0"
      ]
     },
     "execution_count": 14,
     "metadata": {},
     "output_type": "execute_result"
    }
   ],
   "source": [
    "vax.tail()"
   ]
  },
  {
   "cell_type": "code",
   "execution_count": 15,
   "id": "f60cb351",
   "metadata": {},
   "outputs": [],
   "source": [
    "# The index assumes one dose is 40% effective and two are 80% effective\n",
    "vax['VAX_INDEX'] = (vax['ONE_DOSE'] + vax['TWO_DOSES']*2)/-3"
   ]
  },
  {
   "cell_type": "code",
   "execution_count": 16,
   "id": "d92b4ded",
   "metadata": {
    "scrolled": true
   },
   "outputs": [
    {
     "data": {
      "text/plain": [
       "<AxesSubplot:xlabel='DATE'>"
      ]
     },
     "execution_count": 16,
     "metadata": {},
     "output_type": "execute_result"
    },
    {
     "data": {
      "image/png": "[encoded data removed]",
      "text/plain": [
       "<Figure size 432x288 with 1 Axes>"
      ]
     },
     "metadata": {
      "needs_background": "light"
     },
     "output_type": "display_data"
    }
   ],
   "source": [
    "vax.plot(\n",
    "    x = 'DATE'   \n",
    ")"
   ]
  },
  {
   "cell_type": "code",
   "execution_count": 17,
   "id": "f01f2379",
   "metadata": {
    "scrolled": true
   },
   "outputs": [
    {
     "data": {
      "text/html": [
       "<div>\n",
       "<style scoped>\n",
       "    .dataframe tbody tr th:only-of-type {\n",
       "        vertical-align: middle;\n",
       "    }\n",
       "\n",
       "    .dataframe tbody tr th {\n",
       "        vertical-align: top;\n",
       "    }\n",
       "\n",
       "    .dataframe thead th {\n",
       "        text-align: right;\n",
       "    }\n",
       "</style>\n",
       "<table border=\"1\" class=\"dataframe\">\n",
       "  <thead>\n",
       "    <tr style=\"text-align: right;\">\n",
       "      <th></th>\n",
       "      <th>DATE</th>\n",
       "      <th>CASES</th>\n",
       "      <th>AVG_CASES</th>\n",
       "    </tr>\n",
       "  </thead>\n",
       "  <tbody>\n",
       "    <tr>\n",
       "      <th>0</th>\n",
       "      <td>2021-06-29</td>\n",
       "      <td>31</td>\n",
       "      <td>0</td>\n",
       "    </tr>\n",
       "    <tr>\n",
       "      <th>1</th>\n",
       "      <td>2021-06-30</td>\n",
       "      <td>31</td>\n",
       "      <td>0</td>\n",
       "    </tr>\n",
       "    <tr>\n",
       "      <th>2</th>\n",
       "      <td>2021-07-01</td>\n",
       "      <td>31</td>\n",
       "      <td>0</td>\n",
       "    </tr>\n",
       "    <tr>\n",
       "      <th>3</th>\n",
       "      <td>2021-07-02</td>\n",
       "      <td>42</td>\n",
       "      <td>0</td>\n",
       "    </tr>\n",
       "    <tr>\n",
       "      <th>4</th>\n",
       "      <td>2021-07-03</td>\n",
       "      <td>24</td>\n",
       "      <td>0</td>\n",
       "    </tr>\n",
       "  </tbody>\n",
       "</table>\n",
       "</div>"
      ],
      "text/plain": [
       "        DATE  CASES  AVG_CASES\n",
       "0 2021-06-29     31          0\n",
       "1 2021-06-30     31          0\n",
       "2 2021-07-01     31          0\n",
       "3 2021-07-02     42          0\n",
       "4 2021-07-03     24          0"
      ]
     },
     "execution_count": 17,
     "metadata": {},
     "output_type": "execute_result"
    }
   ],
   "source": [
    "cases = case_nums.reset_index()\n",
    "cases[\"notification_date\"] = cases[\"notification_date\"].astype('datetime64')\n",
    "cases = cases.rename(columns={\"notification_date\":\"DATE\",\"size\":\"CASES\",\"smooth\":\"AVG_CASES\"})\n",
    "cases.head()"
   ]
  },
  {
   "cell_type": "code",
   "execution_count": 18,
   "id": "1a523a34",
   "metadata": {},
   "outputs": [],
   "source": [
    "# Lag times as per Mike Honey\n",
    "d_death = dt.timedelta(days=-20)\n",
    "d_vent = dt.timedelta(days=-10)\n",
    "d_ICU = dt.timedelta(days=-8)\n",
    "d_hosp = dt.timedelta(days=-5)"
   ]
  },
  {
   "cell_type": "code",
   "execution_count": 19,
   "id": "996466ba",
   "metadata": {
    "scrolled": false
   },
   "outputs": [],
   "source": [
    "deaths = pd.read_csv(\"deaths_daily_state.csv\",parse_dates=True)\n",
    "deaths = deaths[[\"Date\",\"NSW\"]]\n",
    "#deaths[\"Date\"] = \"2021-\"+deaths[\"Date\"].str.slice(2,5)+\"-\"+deaths[\"Date\"].str.slice(stop=2)\n",
    "#deaths[\"Date\"]=deaths[\"Date\"].astype('datetime64')\n",
    "deaths[\"Date\"] = deaths[\"Date\"].str.replace(\"/\",\"\")\n",
    "deaths[\"Date\"] = pd.to_datetime(deaths[\"Date\"],format=\"%d%m%y\")\n",
    "deaths = deaths.rename(columns={\"Date\":\"DATE\",\"NSW\":\"DEATHS\"})"
   ]
  },
  {
   "cell_type": "code",
   "execution_count": 20,
   "id": "34c1621b",
   "metadata": {
    "scrolled": false
   },
   "outputs": [],
   "source": [
    "# Adjust dates and merge\n",
    "hosp_lag = pd.DataFrame(hosp[[\"DATE\",\"HOSP\"]])\n",
    "hosp_lag[\"DATE\"] = hosp_lag[\"DATE\"]+d_hosp\n",
    "\n",
    "ICU_lag = pd.DataFrame(hosp[[\"DATE\",\"ICU\"]])\n",
    "ICU_lag[\"DATE\"] = ICU_lag[\"DATE\"]+d_ICU\n",
    "\n",
    "vent_lag = pd.DataFrame(hosp[[\"DATE\",\"VENT\"]])\n",
    "vent_lag[\"DATE\"] = vent_lag[\"DATE\"]+d_vent\n",
    "\n",
    "deaths_lag = pd.DataFrame(deaths[[\"DATE\",\"DEATHS\"]])\n",
    "deaths_lag[\"DATE\"] = deaths_lag[\"DATE\"]+d_death\n",
    "\n",
    "cases_lag = pd.merge(cases,hosp_lag,on=\"DATE\",how=\"outer\")\n",
    "cases_lag = pd.merge(cases_lag,ICU_lag,on=\"DATE\",how=\"outer\")\n",
    "cases_lag = pd.merge(cases_lag,vent_lag,on=\"DATE\",how=\"outer\")\n",
    "cases_lag = pd.merge(cases_lag,deaths_lag,on=\"DATE\",how=\"outer\")\n",
    "cases_lag = pd.merge(cases_lag,vax,on=\"DATE\",how=\"outer\")\n",
    "\n",
    "#cases_lag = cases_lag.fillna(0)"
   ]
  },
  {
   "cell_type": "code",
   "execution_count": 21,
   "id": "cefacb2d",
   "metadata": {},
   "outputs": [
    {
     "data": {
      "text/html": [
       "<div>\n",
       "<style scoped>\n",
       "    .dataframe tbody tr th:only-of-type {\n",
       "        vertical-align: middle;\n",
       "    }\n",
       "\n",
       "    .dataframe tbody tr th {\n",
       "        vertical-align: top;\n",
       "    }\n",
       "\n",
       "    .dataframe thead th {\n",
       "        text-align: right;\n",
       "    }\n",
       "</style>\n",
       "<table border=\"1\" class=\"dataframe\">\n",
       "  <thead>\n",
       "    <tr style=\"text-align: right;\">\n",
       "      <th></th>\n",
       "      <th>DATE</th>\n",
       "      <th>CASES</th>\n",
       "      <th>AVG_CASES</th>\n",
       "      <th>HOSP</th>\n",
       "      <th>ICU</th>\n",
       "      <th>VENT</th>\n",
       "      <th>DEATHS</th>\n",
       "      <th>ONE_DOSE</th>\n",
       "      <th>TWO_DOSES</th>\n",
       "      <th>VAX_INDEX</th>\n",
       "    </tr>\n",
       "  </thead>\n",
       "  <tbody>\n",
       "    <tr>\n",
       "      <th>78</th>\n",
       "      <td>2021-09-15</td>\n",
       "      <td>1324.0</td>\n",
       "      <td>1327.0</td>\n",
       "      <td>1206.0</td>\n",
       "      <td>233.0</td>\n",
       "      <td>118.0</td>\n",
       "      <td>7.0</td>\n",
       "      <td>5257327.0</td>\n",
       "      <td>3186444.0</td>\n",
       "      <td>-3.876738e+06</td>\n",
       "    </tr>\n",
       "    <tr>\n",
       "      <th>79</th>\n",
       "      <td>2021-09-16</td>\n",
       "      <td>1266.0</td>\n",
       "      <td>1311.0</td>\n",
       "      <td>1268.0</td>\n",
       "      <td>232.0</td>\n",
       "      <td>117.0</td>\n",
       "      <td>10.0</td>\n",
       "      <td>5296975.0</td>\n",
       "      <td>3256358.0</td>\n",
       "      <td>-3.936564e+06</td>\n",
       "    </tr>\n",
       "    <tr>\n",
       "      <th>80</th>\n",
       "      <td>2021-09-17</td>\n",
       "      <td>1290.0</td>\n",
       "      <td>1274.0</td>\n",
       "      <td>1232.0</td>\n",
       "      <td>229.0</td>\n",
       "      <td>115.0</td>\n",
       "      <td>8.0</td>\n",
       "      <td>5332793.0</td>\n",
       "      <td>3320667.0</td>\n",
       "      <td>-3.991376e+06</td>\n",
       "    </tr>\n",
       "    <tr>\n",
       "      <th>81</th>\n",
       "      <td>2021-09-18</td>\n",
       "      <td>1077.0</td>\n",
       "      <td>1250.0</td>\n",
       "      <td>1244.0</td>\n",
       "      <td>222.0</td>\n",
       "      <td>113.0</td>\n",
       "      <td>11.0</td>\n",
       "      <td>5374576.0</td>\n",
       "      <td>3408100.0</td>\n",
       "      <td>-4.063592e+06</td>\n",
       "    </tr>\n",
       "    <tr>\n",
       "      <th>82</th>\n",
       "      <td>2021-09-19</td>\n",
       "      <td>911.0</td>\n",
       "      <td>1224.0</td>\n",
       "      <td>1186.0</td>\n",
       "      <td>214.0</td>\n",
       "      <td>108.0</td>\n",
       "      <td>11.0</td>\n",
       "      <td>5398633.0</td>\n",
       "      <td>3456741.0</td>\n",
       "      <td>-4.104038e+06</td>\n",
       "    </tr>\n",
       "    <tr>\n",
       "      <th>83</th>\n",
       "      <td>2021-09-20</td>\n",
       "      <td>1044.0</td>\n",
       "      <td>1187.0</td>\n",
       "      <td>1187.0</td>\n",
       "      <td>213.0</td>\n",
       "      <td>105.0</td>\n",
       "      <td>6.0</td>\n",
       "      <td>5413928.0</td>\n",
       "      <td>3482945.0</td>\n",
       "      <td>-4.126606e+06</td>\n",
       "    </tr>\n",
       "    <tr>\n",
       "      <th>84</th>\n",
       "      <td>2021-09-21</td>\n",
       "      <td>1126.0</td>\n",
       "      <td>1158.0</td>\n",
       "      <td>1146.0</td>\n",
       "      <td>212.0</td>\n",
       "      <td>104.0</td>\n",
       "      <td>8.0</td>\n",
       "      <td>5450534.0</td>\n",
       "      <td>3558711.0</td>\n",
       "      <td>-4.189319e+06</td>\n",
       "    </tr>\n",
       "    <tr>\n",
       "      <th>85</th>\n",
       "      <td>2021-09-22</td>\n",
       "      <td>1056.0</td>\n",
       "      <td>1148.0</td>\n",
       "      <td>1155.0</td>\n",
       "      <td>213.0</td>\n",
       "      <td>99.0</td>\n",
       "      <td>5.0</td>\n",
       "      <td>5486424.0</td>\n",
       "      <td>3640998.0</td>\n",
       "      <td>-4.256140e+06</td>\n",
       "    </tr>\n",
       "    <tr>\n",
       "      <th>86</th>\n",
       "      <td>2021-09-23</td>\n",
       "      <td>991.0</td>\n",
       "      <td>1110.0</td>\n",
       "      <td>1155.0</td>\n",
       "      <td>210.0</td>\n",
       "      <td>93.0</td>\n",
       "      <td>4.0</td>\n",
       "      <td>5522265.0</td>\n",
       "      <td>3718288.0</td>\n",
       "      <td>-4.319614e+06</td>\n",
       "    </tr>\n",
       "    <tr>\n",
       "      <th>87</th>\n",
       "      <td>2021-09-24</td>\n",
       "      <td>1035.0</td>\n",
       "      <td>1070.0</td>\n",
       "      <td>1082.0</td>\n",
       "      <td>202.0</td>\n",
       "      <td>97.0</td>\n",
       "      <td>6.0</td>\n",
       "      <td>5558500.0</td>\n",
       "      <td>3796695.0</td>\n",
       "      <td>-4.383963e+06</td>\n",
       "    </tr>\n",
       "    <tr>\n",
       "      <th>88</th>\n",
       "      <td>2021-09-25</td>\n",
       "      <td>916.0</td>\n",
       "      <td>1034.0</td>\n",
       "      <td>1090.0</td>\n",
       "      <td>195.0</td>\n",
       "      <td>94.0</td>\n",
       "      <td>NaN</td>\n",
       "      <td>5592648.0</td>\n",
       "      <td>3889864.0</td>\n",
       "      <td>-4.457459e+06</td>\n",
       "    </tr>\n",
       "    <tr>\n",
       "      <th>89</th>\n",
       "      <td>2021-09-26</td>\n",
       "      <td>805.0</td>\n",
       "      <td>1011.0</td>\n",
       "      <td>1055.0</td>\n",
       "      <td>193.0</td>\n",
       "      <td>93.0</td>\n",
       "      <td>NaN</td>\n",
       "      <td>5614448.0</td>\n",
       "      <td>3943347.0</td>\n",
       "      <td>-4.500381e+06</td>\n",
       "    </tr>\n",
       "    <tr>\n",
       "      <th>90</th>\n",
       "      <td>2021-09-27</td>\n",
       "      <td>835.0</td>\n",
       "      <td>996.0</td>\n",
       "      <td>1005.0</td>\n",
       "      <td>190.0</td>\n",
       "      <td>85.0</td>\n",
       "      <td>NaN</td>\n",
       "      <td>5626658.0</td>\n",
       "      <td>3968843.0</td>\n",
       "      <td>-4.521448e+06</td>\n",
       "    </tr>\n",
       "    <tr>\n",
       "      <th>91</th>\n",
       "      <td>2021-09-28</td>\n",
       "      <td>906.0</td>\n",
       "      <td>966.0</td>\n",
       "      <td>981.0</td>\n",
       "      <td>188.0</td>\n",
       "      <td>75.0</td>\n",
       "      <td>NaN</td>\n",
       "      <td>5660515.0</td>\n",
       "      <td>4048903.0</td>\n",
       "      <td>-4.586107e+06</td>\n",
       "    </tr>\n",
       "    <tr>\n",
       "      <th>92</th>\n",
       "      <td>2021-09-29</td>\n",
       "      <td>968.0</td>\n",
       "      <td>934.0</td>\n",
       "      <td>959.0</td>\n",
       "      <td>181.0</td>\n",
       "      <td>75.0</td>\n",
       "      <td>NaN</td>\n",
       "      <td>5693944.0</td>\n",
       "      <td>4132602.0</td>\n",
       "      <td>-4.653049e+06</td>\n",
       "    </tr>\n",
       "    <tr>\n",
       "      <th>93</th>\n",
       "      <td>2021-09-30</td>\n",
       "      <td>842.0</td>\n",
       "      <td>922.0</td>\n",
       "      <td>978.0</td>\n",
       "      <td>170.0</td>\n",
       "      <td>76.0</td>\n",
       "      <td>NaN</td>\n",
       "      <td>5724869.0</td>\n",
       "      <td>4204036.0</td>\n",
       "      <td>-4.710980e+06</td>\n",
       "    </tr>\n",
       "    <tr>\n",
       "      <th>94</th>\n",
       "      <td>2021-10-01</td>\n",
       "      <td>829.0</td>\n",
       "      <td>901.0</td>\n",
       "      <td>959.0</td>\n",
       "      <td>163.0</td>\n",
       "      <td>71.0</td>\n",
       "      <td>NaN</td>\n",
       "      <td>5756898.0</td>\n",
       "      <td>4281843.0</td>\n",
       "      <td>-4.773528e+06</td>\n",
       "    </tr>\n",
       "    <tr>\n",
       "      <th>95</th>\n",
       "      <td>2021-10-02</td>\n",
       "      <td>683.0</td>\n",
       "      <td>871.0</td>\n",
       "      <td>911.0</td>\n",
       "      <td>159.0</td>\n",
       "      <td>74.0</td>\n",
       "      <td>NaN</td>\n",
       "      <td>5785854.0</td>\n",
       "      <td>4366019.0</td>\n",
       "      <td>-4.839297e+06</td>\n",
       "    </tr>\n",
       "    <tr>\n",
       "      <th>96</th>\n",
       "      <td>2021-10-03</td>\n",
       "      <td>629.0</td>\n",
       "      <td>838.0</td>\n",
       "      <td>856.0</td>\n",
       "      <td>153.0</td>\n",
       "      <td>76.0</td>\n",
       "      <td>NaN</td>\n",
       "      <td>5801150.0</td>\n",
       "      <td>4408263.0</td>\n",
       "      <td>-4.872559e+06</td>\n",
       "    </tr>\n",
       "    <tr>\n",
       "      <th>97</th>\n",
       "      <td>2021-10-04</td>\n",
       "      <td>593.0</td>\n",
       "      <td>813.0</td>\n",
       "      <td>812.0</td>\n",
       "      <td>155.0</td>\n",
       "      <td>75.0</td>\n",
       "      <td>NaN</td>\n",
       "      <td>5808414.0</td>\n",
       "      <td>4428775.0</td>\n",
       "      <td>-4.888655e+06</td>\n",
       "    </tr>\n",
       "    <tr>\n",
       "      <th>98</th>\n",
       "      <td>2021-10-05</td>\n",
       "      <td>544.0</td>\n",
       "      <td>778.0</td>\n",
       "      <td>794.0</td>\n",
       "      <td>150.0</td>\n",
       "      <td>NaN</td>\n",
       "      <td>NaN</td>\n",
       "      <td>5815075.0</td>\n",
       "      <td>4442925.0</td>\n",
       "      <td>-4.900308e+06</td>\n",
       "    </tr>\n",
       "    <tr>\n",
       "      <th>99</th>\n",
       "      <td>2021-10-06</td>\n",
       "      <td>631.0</td>\n",
       "      <td>726.0</td>\n",
       "      <td>769.0</td>\n",
       "      <td>143.0</td>\n",
       "      <td>NaN</td>\n",
       "      <td>NaN</td>\n",
       "      <td>5844107.0</td>\n",
       "      <td>4538018.0</td>\n",
       "      <td>-4.973381e+06</td>\n",
       "    </tr>\n",
       "    <tr>\n",
       "      <th>100</th>\n",
       "      <td>2021-10-07</td>\n",
       "      <td>671.0</td>\n",
       "      <td>678.0</td>\n",
       "      <td>766.0</td>\n",
       "      <td>NaN</td>\n",
       "      <td>NaN</td>\n",
       "      <td>NaN</td>\n",
       "      <td>5870574.0</td>\n",
       "      <td>4616948.0</td>\n",
       "      <td>-5.034823e+06</td>\n",
       "    </tr>\n",
       "    <tr>\n",
       "      <th>101</th>\n",
       "      <td>2021-10-08</td>\n",
       "      <td>518.0</td>\n",
       "      <td>654.0</td>\n",
       "      <td>716.0</td>\n",
       "      <td>NaN</td>\n",
       "      <td>NaN</td>\n",
       "      <td>NaN</td>\n",
       "      <td>5894982.0</td>\n",
       "      <td>4693523.0</td>\n",
       "      <td>-5.094009e+06</td>\n",
       "    </tr>\n",
       "    <tr>\n",
       "      <th>102</th>\n",
       "      <td>2021-10-09</td>\n",
       "      <td>506.0</td>\n",
       "      <td>609.0</td>\n",
       "      <td>711.0</td>\n",
       "      <td>NaN</td>\n",
       "      <td>NaN</td>\n",
       "      <td>NaN</td>\n",
       "      <td>5918121.0</td>\n",
       "      <td>4776653.0</td>\n",
       "      <td>-5.157142e+06</td>\n",
       "    </tr>\n",
       "    <tr>\n",
       "      <th>103</th>\n",
       "      <td>2021-10-10</td>\n",
       "      <td>444.0</td>\n",
       "      <td>584.0</td>\n",
       "      <td>NaN</td>\n",
       "      <td>NaN</td>\n",
       "      <td>NaN</td>\n",
       "      <td>NaN</td>\n",
       "      <td>5931034.0</td>\n",
       "      <td>4827636.0</td>\n",
       "      <td>-5.195435e+06</td>\n",
       "    </tr>\n",
       "    <tr>\n",
       "      <th>104</th>\n",
       "      <td>2021-10-11</td>\n",
       "      <td>373.0</td>\n",
       "      <td>558.0</td>\n",
       "      <td>NaN</td>\n",
       "      <td>NaN</td>\n",
       "      <td>NaN</td>\n",
       "      <td>NaN</td>\n",
       "      <td>5938082.0</td>\n",
       "      <td>4856736.0</td>\n",
       "      <td>-5.217185e+06</td>\n",
       "    </tr>\n",
       "    <tr>\n",
       "      <th>105</th>\n",
       "      <td>2021-10-12</td>\n",
       "      <td>439.0</td>\n",
       "      <td>526.0</td>\n",
       "      <td>NaN</td>\n",
       "      <td>NaN</td>\n",
       "      <td>NaN</td>\n",
       "      <td>NaN</td>\n",
       "      <td>5959853.0</td>\n",
       "      <td>4939216.0</td>\n",
       "      <td>-5.279428e+06</td>\n",
       "    </tr>\n",
       "    <tr>\n",
       "      <th>106</th>\n",
       "      <td>2021-10-13</td>\n",
       "      <td>346.0</td>\n",
       "      <td>511.0</td>\n",
       "      <td>NaN</td>\n",
       "      <td>NaN</td>\n",
       "      <td>NaN</td>\n",
       "      <td>NaN</td>\n",
       "      <td>5981468.0</td>\n",
       "      <td>5025898.0</td>\n",
       "      <td>-5.344421e+06</td>\n",
       "    </tr>\n",
       "    <tr>\n",
       "      <th>612</th>\n",
       "      <td>2021-10-14</td>\n",
       "      <td>NaN</td>\n",
       "      <td>NaN</td>\n",
       "      <td>NaN</td>\n",
       "      <td>NaN</td>\n",
       "      <td>NaN</td>\n",
       "      <td>NaN</td>\n",
       "      <td>6000795.0</td>\n",
       "      <td>5105834.0</td>\n",
       "      <td>-5.404154e+06</td>\n",
       "    </tr>\n",
       "  </tbody>\n",
       "</table>\n",
       "</div>"
      ],
      "text/plain": [
       "          DATE   CASES  AVG_CASES    HOSP    ICU   VENT  DEATHS   ONE_DOSE  \\\n",
       "78  2021-09-15  1324.0     1327.0  1206.0  233.0  118.0     7.0  5257327.0   \n",
       "79  2021-09-16  1266.0     1311.0  1268.0  232.0  117.0    10.0  5296975.0   \n",
       "80  2021-09-17  1290.0     1274.0  1232.0  229.0  115.0     8.0  5332793.0   \n",
       "81  2021-09-18  1077.0     1250.0  1244.0  222.0  113.0    11.0  5374576.0   \n",
       "82  2021-09-19   911.0     1224.0  1186.0  214.0  108.0    11.0  5398633.0   \n",
       "83  2021-09-20  1044.0     1187.0  1187.0  213.0  105.0     6.0  5413928.0   \n",
       "84  2021-09-21  1126.0     1158.0  1146.0  212.0  104.0     8.0  5450534.0   \n",
       "85  2021-09-22  1056.0     1148.0  1155.0  213.0   99.0     5.0  5486424.0   \n",
       "86  2021-09-23   991.0     1110.0  1155.0  210.0   93.0     4.0  5522265.0   \n",
       "87  2021-09-24  1035.0     1070.0  1082.0  202.0   97.0     6.0  5558500.0   \n",
       "88  2021-09-25   916.0     1034.0  1090.0  195.0   94.0     NaN  5592648.0   \n",
       "89  2021-09-26   805.0     1011.0  1055.0  193.0   93.0     NaN  5614448.0   \n",
       "90  2021-09-27   835.0      996.0  1005.0  190.0   85.0     NaN  5626658.0   \n",
       "91  2021-09-28   906.0      966.0   981.0  188.0   75.0     NaN  5660515.0   \n",
       "92  2021-09-29   968.0      934.0   959.0  181.0   75.0     NaN  5693944.0   \n",
       "93  2021-09-30   842.0      922.0   978.0  170.0   76.0     NaN  5724869.0   \n",
       "94  2021-10-01   829.0      901.0   959.0  163.0   71.0     NaN  5756898.0   \n",
       "95  2021-10-02   683.0      871.0   911.0  159.0   74.0     NaN  5785854.0   \n",
       "96  2021-10-03   629.0      838.0   856.0  153.0   76.0     NaN  5801150.0   \n",
       "97  2021-10-04   593.0      813.0   812.0  155.0   75.0     NaN  5808414.0   \n",
       "98  2021-10-05   544.0      778.0   794.0  150.0    NaN     NaN  5815075.0   \n",
       "99  2021-10-06   631.0      726.0   769.0  143.0    NaN     NaN  5844107.0   \n",
       "100 2021-10-07   671.0      678.0   766.0    NaN    NaN     NaN  5870574.0   \n",
       "101 2021-10-08   518.0      654.0   716.0    NaN    NaN     NaN  5894982.0   \n",
       "102 2021-10-09   506.0      609.0   711.0    NaN    NaN     NaN  5918121.0   \n",
       "103 2021-10-10   444.0      584.0     NaN    NaN    NaN     NaN  5931034.0   \n",
       "104 2021-10-11   373.0      558.0     NaN    NaN    NaN     NaN  5938082.0   \n",
       "105 2021-10-12   439.0      526.0     NaN    NaN    NaN     NaN  5959853.0   \n",
       "106 2021-10-13   346.0      511.0     NaN    NaN    NaN     NaN  5981468.0   \n",
       "612 2021-10-14     NaN        NaN     NaN    NaN    NaN     NaN  6000795.0   \n",
       "\n",
       "     TWO_DOSES     VAX_INDEX  \n",
       "78   3186444.0 -3.876738e+06  \n",
       "79   3256358.0 -3.936564e+06  \n",
       "80   3320667.0 -3.991376e+06  \n",
       "81   3408100.0 -4.063592e+06  \n",
       "82   3456741.0 -4.104038e+06  \n",
       "83   3482945.0 -4.126606e+06  \n",
       "84   3558711.0 -4.189319e+06  \n",
       "85   3640998.0 -4.256140e+06  \n",
       "86   3718288.0 -4.319614e+06  \n",
       "87   3796695.0 -4.383963e+06  \n",
       "88   3889864.0 -4.457459e+06  \n",
       "89   3943347.0 -4.500381e+06  \n",
       "90   3968843.0 -4.521448e+06  \n",
       "91   4048903.0 -4.586107e+06  \n",
       "92   4132602.0 -4.653049e+06  \n",
       "93   4204036.0 -4.710980e+06  \n",
       "94   4281843.0 -4.773528e+06  \n",
       "95   4366019.0 -4.839297e+06  \n",
       "96   4408263.0 -4.872559e+06  \n",
       "97   4428775.0 -4.888655e+06  \n",
       "98   4442925.0 -4.900308e+06  \n",
       "99   4538018.0 -4.973381e+06  \n",
       "100  4616948.0 -5.034823e+06  \n",
       "101  4693523.0 -5.094009e+06  \n",
       "102  4776653.0 -5.157142e+06  \n",
       "103  4827636.0 -5.195435e+06  \n",
       "104  4856736.0 -5.217185e+06  \n",
       "105  4939216.0 -5.279428e+06  \n",
       "106  5025898.0 -5.344421e+06  \n",
       "612  5105834.0 -5.404154e+06  "
      ]
     },
     "execution_count": 21,
     "metadata": {},
     "output_type": "execute_result"
    }
   ],
   "source": [
    "cases_lag.sort_values(\"DATE\").tail(30)"
   ]
  },
  {
   "cell_type": "code",
   "execution_count": 22,
   "id": "70c746d5",
   "metadata": {},
   "outputs": [
    {
     "name": "stderr",
     "output_type": "stream",
     "text": [
      "<ipython-input-22-b8eee157f45b>:3: SettingWithCopyWarning: \n",
      "A value is trying to be set on a copy of a slice from a DataFrame\n",
      "\n",
      "See the caveats in the documentation: https://pandas.pydata.org/pandas-docs/stable/user_guide/indexing.html#returning-a-view-versus-a-copy\n",
      "  cases_lag[\"AVG_DEATHS\"][i+7] = (cases_lag['DEATHS'][i]+cases_lag['DEATHS'][i+1]+cases_lag['DEATHS'][i+2]+cases_lag['DEATHS'][i+3]+cases_lag['DEATHS'][i+4]+cases_lag['DEATHS'][i+5]+cases_lag['DEATHS'][i+6])/7\n",
      "C:\\Users\\helen\\anaconda3\\lib\\site-packages\\pandas\\core\\indexing.py:1637: SettingWithCopyWarning: \n",
      "A value is trying to be set on a copy of a slice from a DataFrame\n",
      "\n",
      "See the caveats in the documentation: https://pandas.pydata.org/pandas-docs/stable/user_guide/indexing.html#returning-a-view-versus-a-copy\n",
      "  self._setitem_single_block(indexer, value, name)\n"
     ]
    }
   ],
   "source": [
    "cases_lag[\"AVG_DEATHS\"] = [0]*len(cases_lag)\n",
    "for i in range(0,len(cases_lag)-7):\n",
    "    cases_lag[\"AVG_DEATHS\"][i+7] = (cases_lag['DEATHS'][i]+cases_lag['DEATHS'][i+1]+cases_lag['DEATHS'][i+2]+cases_lag['DEATHS'][i+3]+cases_lag['DEATHS'][i+4]+cases_lag['DEATHS'][i+5]+cases_lag['DEATHS'][i+6])/7"
   ]
  },
  {
   "cell_type": "code",
   "execution_count": 72,
   "id": "d921bee4",
   "metadata": {
    "scrolled": true
   },
   "outputs": [
    {
     "name": "stderr",
     "output_type": "stream",
     "text": [
      "<ipython-input-72-0014789e3a56>:8: SettingWithCopyWarning:\n",
      "\n",
      "\n",
      "A value is trying to be set on a copy of a slice from a DataFrame\n",
      "\n",
      "See the caveats in the documentation: https://pandas.pydata.org/pandas-docs/stable/user_guide/indexing.html#returning-a-view-versus-a-copy\n",
      "\n"
     ]
    },
    {
     "data": {
      "text/html": [
       "<div>\n",
       "<style scoped>\n",
       "    .dataframe tbody tr th:only-of-type {\n",
       "        vertical-align: middle;\n",
       "    }\n",
       "\n",
       "    .dataframe tbody tr th {\n",
       "        vertical-align: top;\n",
       "    }\n",
       "\n",
       "    .dataframe thead th {\n",
       "        text-align: right;\n",
       "    }\n",
       "</style>\n",
       "<table border=\"1\" class=\"dataframe\">\n",
       "  <thead>\n",
       "    <tr style=\"text-align: right;\">\n",
       "      <th></th>\n",
       "      <th>DATE</th>\n",
       "      <th>CASES</th>\n",
       "      <th>AVG_CASES</th>\n",
       "      <th>HOSP</th>\n",
       "      <th>ICU</th>\n",
       "      <th>VENT</th>\n",
       "      <th>DEATHS</th>\n",
       "      <th>ONE_DOSE</th>\n",
       "      <th>TWO_DOSES</th>\n",
       "      <th>VAX_INDEX</th>\n",
       "      <th>AVG_DEATHS</th>\n",
       "      <th>HOSP_RATE</th>\n",
       "      <th>ICU_RATE</th>\n",
       "      <th>VENT_RATE</th>\n",
       "      <th>AVG_DEATH_RATE</th>\n",
       "      <th>DEATH_RATE</th>\n",
       "    </tr>\n",
       "  </thead>\n",
       "  <tbody>\n",
       "    <tr>\n",
       "      <th>0</th>\n",
       "      <td>2021-06-29</td>\n",
       "      <td>31.0</td>\n",
       "      <td>0.0</td>\n",
       "      <td>20.0</td>\n",
       "      <td>7.0</td>\n",
       "      <td>4.0</td>\n",
       "      <td>1.0</td>\n",
       "      <td>1701646.0</td>\n",
       "      <td>463624.0</td>\n",
       "      <td>-876298.000000</td>\n",
       "      <td>0.0</td>\n",
       "      <td>0.0</td>\n",
       "      <td>0.0</td>\n",
       "      <td>0.0</td>\n",
       "      <td>0.032258</td>\n",
       "      <td>3.225806</td>\n",
       "    </tr>\n",
       "    <tr>\n",
       "      <th>1</th>\n",
       "      <td>2021-06-30</td>\n",
       "      <td>31.0</td>\n",
       "      <td>0.0</td>\n",
       "      <td>24.0</td>\n",
       "      <td>11.0</td>\n",
       "      <td>5.0</td>\n",
       "      <td>0.0</td>\n",
       "      <td>1747656.0</td>\n",
       "      <td>463624.0</td>\n",
       "      <td>-891634.666667</td>\n",
       "      <td>0.0</td>\n",
       "      <td>0.0</td>\n",
       "      <td>0.0</td>\n",
       "      <td>0.0</td>\n",
       "      <td>0.000000</td>\n",
       "      <td>0.000000</td>\n",
       "    </tr>\n",
       "    <tr>\n",
       "      <th>2</th>\n",
       "      <td>2021-07-01</td>\n",
       "      <td>31.0</td>\n",
       "      <td>0.0</td>\n",
       "      <td>23.0</td>\n",
       "      <td>10.0</td>\n",
       "      <td>5.0</td>\n",
       "      <td>0.0</td>\n",
       "      <td>1796119.0</td>\n",
       "      <td>463624.0</td>\n",
       "      <td>-907789.000000</td>\n",
       "      <td>0.0</td>\n",
       "      <td>0.0</td>\n",
       "      <td>0.0</td>\n",
       "      <td>0.0</td>\n",
       "      <td>0.000000</td>\n",
       "      <td>0.000000</td>\n",
       "    </tr>\n",
       "    <tr>\n",
       "      <th>3</th>\n",
       "      <td>2021-07-02</td>\n",
       "      <td>42.0</td>\n",
       "      <td>0.0</td>\n",
       "      <td>37.0</td>\n",
       "      <td>16.0</td>\n",
       "      <td>4.0</td>\n",
       "      <td>0.0</td>\n",
       "      <td>1782220.0</td>\n",
       "      <td>534493.0</td>\n",
       "      <td>-950402.000000</td>\n",
       "      <td>0.0</td>\n",
       "      <td>0.0</td>\n",
       "      <td>0.0</td>\n",
       "      <td>0.0</td>\n",
       "      <td>0.000000</td>\n",
       "      <td>0.000000</td>\n",
       "    </tr>\n",
       "    <tr>\n",
       "      <th>4</th>\n",
       "      <td>2021-07-03</td>\n",
       "      <td>24.0</td>\n",
       "      <td>0.0</td>\n",
       "      <td>29.0</td>\n",
       "      <td>15.0</td>\n",
       "      <td>4.0</td>\n",
       "      <td>1.0</td>\n",
       "      <td>1806958.0</td>\n",
       "      <td>554057.0</td>\n",
       "      <td>-971690.666667</td>\n",
       "      <td>0.0</td>\n",
       "      <td>0.0</td>\n",
       "      <td>0.0</td>\n",
       "      <td>0.0</td>\n",
       "      <td>0.041667</td>\n",
       "      <td>4.166667</td>\n",
       "    </tr>\n",
       "  </tbody>\n",
       "</table>\n",
       "</div>"
      ],
      "text/plain": [
       "        DATE  CASES  AVG_CASES  HOSP   ICU  VENT  DEATHS   ONE_DOSE  \\\n",
       "0 2021-06-29   31.0        0.0  20.0   7.0   4.0     1.0  1701646.0   \n",
       "1 2021-06-30   31.0        0.0  24.0  11.0   5.0     0.0  1747656.0   \n",
       "2 2021-07-01   31.0        0.0  23.0  10.0   5.0     0.0  1796119.0   \n",
       "3 2021-07-02   42.0        0.0  37.0  16.0   4.0     0.0  1782220.0   \n",
       "4 2021-07-03   24.0        0.0  29.0  15.0   4.0     1.0  1806958.0   \n",
       "\n",
       "   TWO_DOSES      VAX_INDEX  AVG_DEATHS  HOSP_RATE  ICU_RATE  VENT_RATE  \\\n",
       "0   463624.0 -876298.000000         0.0        0.0       0.0        0.0   \n",
       "1   463624.0 -891634.666667         0.0        0.0       0.0        0.0   \n",
       "2   463624.0 -907789.000000         0.0        0.0       0.0        0.0   \n",
       "3   534493.0 -950402.000000         0.0        0.0       0.0        0.0   \n",
       "4   554057.0 -971690.666667         0.0        0.0       0.0        0.0   \n",
       "\n",
       "   AVG_DEATH_RATE  DEATH_RATE  \n",
       "0        0.032258    3.225806  \n",
       "1        0.000000    0.000000  \n",
       "2        0.000000    0.000000  \n",
       "3        0.000000    0.000000  \n",
       "4        0.041667    4.166667  "
      ]
     },
     "execution_count": 72,
     "metadata": {},
     "output_type": "execute_result"
    }
   ],
   "source": [
    "# Note: This is cases per day averaged vs current total hospital numbers, not daily admissions\n",
    "cases_lag[\"HOSP_RATE\"]=np.where(cases_lag[\"AVG_CASES\"]==0,0,100*cases_lag[\"HOSP\"]/cases_lag[\"AVG_CASES\"])\n",
    "cases_lag[\"ICU_RATE\"]=np.where(cases_lag[\"AVG_CASES\"]==0,0,100*cases_lag[\"ICU\"]/cases_lag[\"AVG_CASES\"])\n",
    "cases_lag[\"VENT_RATE\"]=np.where(cases_lag[\"AVG_CASES\"]==0,0,100*cases_lag[\"VENT\"]/cases_lag[\"AVG_CASES\"])\n",
    "cases_lag[\"DEATH_RATE\"]=np.where(cases_lag[\"CASES\"]==0,0,100*cases_lag[\"DEATHS\"]/cases_lag[\"CASES\"])\n",
    "\n",
    "for i in range(0,len(cases_lag)-7):\n",
    "    cases_lag[\"AVG_DEATH_RATE\"][i+7] = (cases_lag['DEATH_RATE'][i]+cases_lag['DEATH_RATE'][i+1]+cases_lag['DEATH_RATE'][i+2]+cases_lag['DEATH_RATE'][i+3]+cases_lag['DEATH_RATE'][i+4]+cases_lag['DEATH_RATE'][i+5]+cases_lag['DEATH_RATE'][i+6])/7\n",
    "#cases_lag[\"AVG_DEATH_RATE\"]=np.where(cases_lag[\"AVG_CASES\"]==0,0,cases_lag[\"AVG_DEATH_RATE\"]/cases_lag[\"AVG_CASES\"])\n",
    "cases_lag.head()"
   ]
  },
  {
   "cell_type": "code",
   "execution_count": 29,
   "id": "cc1ab110",
   "metadata": {},
   "outputs": [
    {
     "data": {
      "text/html": [
       "<div>\n",
       "<style scoped>\n",
       "    .dataframe tbody tr th:only-of-type {\n",
       "        vertical-align: middle;\n",
       "    }\n",
       "\n",
       "    .dataframe tbody tr th {\n",
       "        vertical-align: top;\n",
       "    }\n",
       "\n",
       "    .dataframe thead th {\n",
       "        text-align: right;\n",
       "    }\n",
       "</style>\n",
       "<table border=\"1\" class=\"dataframe\">\n",
       "  <thead>\n",
       "    <tr style=\"text-align: right;\">\n",
       "      <th></th>\n",
       "      <th>DATE</th>\n",
       "      <th>CASES</th>\n",
       "      <th>AVG_CASES</th>\n",
       "      <th>HOSP</th>\n",
       "      <th>ICU</th>\n",
       "      <th>VENT</th>\n",
       "      <th>DEATHS</th>\n",
       "      <th>ONE_DOSE</th>\n",
       "      <th>TWO_DOSES</th>\n",
       "      <th>VAX_INDEX</th>\n",
       "      <th>AVG_DEATHS</th>\n",
       "      <th>HOSP_RATE</th>\n",
       "      <th>ICU_RATE</th>\n",
       "      <th>VENT_RATE</th>\n",
       "      <th>AVG_DEATH_RATE</th>\n",
       "      <th>DEATH_RATE</th>\n",
       "    </tr>\n",
       "  </thead>\n",
       "  <tbody>\n",
       "    <tr>\n",
       "      <th>78</th>\n",
       "      <td>2021-09-15</td>\n",
       "      <td>1324.0</td>\n",
       "      <td>1327.0</td>\n",
       "      <td>1206.0</td>\n",
       "      <td>233.0</td>\n",
       "      <td>118.0</td>\n",
       "      <td>7.0</td>\n",
       "      <td>5257327.0</td>\n",
       "      <td>3186444.0</td>\n",
       "      <td>-3.876738e+06</td>\n",
       "      <td>9.0</td>\n",
       "      <td>0.908817</td>\n",
       "      <td>0.175584</td>\n",
       "      <td>0.088922</td>\n",
       "      <td>0.007474</td>\n",
       "      <td>0.005287</td>\n",
       "    </tr>\n",
       "    <tr>\n",
       "      <th>79</th>\n",
       "      <td>2021-09-16</td>\n",
       "      <td>1266.0</td>\n",
       "      <td>1311.0</td>\n",
       "      <td>1268.0</td>\n",
       "      <td>232.0</td>\n",
       "      <td>117.0</td>\n",
       "      <td>10.0</td>\n",
       "      <td>5296975.0</td>\n",
       "      <td>3256358.0</td>\n",
       "      <td>-3.936564e+06</td>\n",
       "      <td>9.0</td>\n",
       "      <td>0.967201</td>\n",
       "      <td>0.176964</td>\n",
       "      <td>0.089245</td>\n",
       "      <td>0.007532</td>\n",
       "      <td>0.007899</td>\n",
       "    </tr>\n",
       "    <tr>\n",
       "      <th>80</th>\n",
       "      <td>2021-09-17</td>\n",
       "      <td>1290.0</td>\n",
       "      <td>1274.0</td>\n",
       "      <td>1232.0</td>\n",
       "      <td>229.0</td>\n",
       "      <td>115.0</td>\n",
       "      <td>8.0</td>\n",
       "      <td>5332793.0</td>\n",
       "      <td>3320667.0</td>\n",
       "      <td>-3.991376e+06</td>\n",
       "      <td>9.0</td>\n",
       "      <td>0.967033</td>\n",
       "      <td>0.179749</td>\n",
       "      <td>0.090267</td>\n",
       "      <td>0.007255</td>\n",
       "      <td>0.006202</td>\n",
       "    </tr>\n",
       "    <tr>\n",
       "      <th>81</th>\n",
       "      <td>2021-09-18</td>\n",
       "      <td>1077.0</td>\n",
       "      <td>1250.0</td>\n",
       "      <td>1244.0</td>\n",
       "      <td>222.0</td>\n",
       "      <td>113.0</td>\n",
       "      <td>11.0</td>\n",
       "      <td>5374576.0</td>\n",
       "      <td>3408100.0</td>\n",
       "      <td>-4.063592e+06</td>\n",
       "      <td>9.0</td>\n",
       "      <td>0.995200</td>\n",
       "      <td>0.177600</td>\n",
       "      <td>0.090400</td>\n",
       "      <td>0.007554</td>\n",
       "      <td>0.010214</td>\n",
       "    </tr>\n",
       "    <tr>\n",
       "      <th>82</th>\n",
       "      <td>2021-09-19</td>\n",
       "      <td>911.0</td>\n",
       "      <td>1224.0</td>\n",
       "      <td>1186.0</td>\n",
       "      <td>214.0</td>\n",
       "      <td>108.0</td>\n",
       "      <td>11.0</td>\n",
       "      <td>5398633.0</td>\n",
       "      <td>3456741.0</td>\n",
       "      <td>-4.104038e+06</td>\n",
       "      <td>8.0</td>\n",
       "      <td>0.968954</td>\n",
       "      <td>0.174837</td>\n",
       "      <td>0.088235</td>\n",
       "      <td>0.007312</td>\n",
       "      <td>0.012075</td>\n",
       "    </tr>\n",
       "    <tr>\n",
       "      <th>83</th>\n",
       "      <td>2021-09-20</td>\n",
       "      <td>1044.0</td>\n",
       "      <td>1187.0</td>\n",
       "      <td>1187.0</td>\n",
       "      <td>213.0</td>\n",
       "      <td>105.0</td>\n",
       "      <td>6.0</td>\n",
       "      <td>5413928.0</td>\n",
       "      <td>3482945.0</td>\n",
       "      <td>-4.126606e+06</td>\n",
       "      <td>9.0</td>\n",
       "      <td>1.000000</td>\n",
       "      <td>0.179444</td>\n",
       "      <td>0.088458</td>\n",
       "      <td>0.007816</td>\n",
       "      <td>0.005747</td>\n",
       "    </tr>\n",
       "    <tr>\n",
       "      <th>84</th>\n",
       "      <td>2021-09-21</td>\n",
       "      <td>1126.0</td>\n",
       "      <td>1158.0</td>\n",
       "      <td>1146.0</td>\n",
       "      <td>212.0</td>\n",
       "      <td>104.0</td>\n",
       "      <td>8.0</td>\n",
       "      <td>5450534.0</td>\n",
       "      <td>3558711.0</td>\n",
       "      <td>-4.189319e+06</td>\n",
       "      <td>8.0</td>\n",
       "      <td>0.989637</td>\n",
       "      <td>0.183074</td>\n",
       "      <td>0.089810</td>\n",
       "      <td>0.007491</td>\n",
       "      <td>0.007105</td>\n",
       "    </tr>\n",
       "    <tr>\n",
       "      <th>85</th>\n",
       "      <td>2021-09-22</td>\n",
       "      <td>1056.0</td>\n",
       "      <td>1148.0</td>\n",
       "      <td>1155.0</td>\n",
       "      <td>213.0</td>\n",
       "      <td>99.0</td>\n",
       "      <td>5.0</td>\n",
       "      <td>5486424.0</td>\n",
       "      <td>3640998.0</td>\n",
       "      <td>-4.256140e+06</td>\n",
       "      <td>8.0</td>\n",
       "      <td>1.006098</td>\n",
       "      <td>0.185540</td>\n",
       "      <td>0.086237</td>\n",
       "      <td>0.007790</td>\n",
       "      <td>0.004735</td>\n",
       "    </tr>\n",
       "    <tr>\n",
       "      <th>86</th>\n",
       "      <td>2021-09-23</td>\n",
       "      <td>991.0</td>\n",
       "      <td>1110.0</td>\n",
       "      <td>1155.0</td>\n",
       "      <td>210.0</td>\n",
       "      <td>93.0</td>\n",
       "      <td>4.0</td>\n",
       "      <td>5522265.0</td>\n",
       "      <td>3718288.0</td>\n",
       "      <td>-4.319614e+06</td>\n",
       "      <td>8.0</td>\n",
       "      <td>1.040541</td>\n",
       "      <td>0.189189</td>\n",
       "      <td>0.083784</td>\n",
       "      <td>0.007711</td>\n",
       "      <td>0.004036</td>\n",
       "    </tr>\n",
       "    <tr>\n",
       "      <th>87</th>\n",
       "      <td>2021-09-24</td>\n",
       "      <td>1035.0</td>\n",
       "      <td>1070.0</td>\n",
       "      <td>1082.0</td>\n",
       "      <td>202.0</td>\n",
       "      <td>97.0</td>\n",
       "      <td>6.0</td>\n",
       "      <td>5558500.0</td>\n",
       "      <td>3796695.0</td>\n",
       "      <td>-4.383963e+06</td>\n",
       "      <td>7.0</td>\n",
       "      <td>1.011215</td>\n",
       "      <td>0.188785</td>\n",
       "      <td>0.090654</td>\n",
       "      <td>0.007159</td>\n",
       "      <td>0.005797</td>\n",
       "    </tr>\n",
       "    <tr>\n",
       "      <th>88</th>\n",
       "      <td>2021-09-25</td>\n",
       "      <td>916.0</td>\n",
       "      <td>1034.0</td>\n",
       "      <td>1090.0</td>\n",
       "      <td>195.0</td>\n",
       "      <td>94.0</td>\n",
       "      <td>NaN</td>\n",
       "      <td>5592648.0</td>\n",
       "      <td>3889864.0</td>\n",
       "      <td>-4.457459e+06</td>\n",
       "      <td>7.0</td>\n",
       "      <td>1.054159</td>\n",
       "      <td>0.188588</td>\n",
       "      <td>0.090909</td>\n",
       "      <td>0.007101</td>\n",
       "      <td>NaN</td>\n",
       "    </tr>\n",
       "    <tr>\n",
       "      <th>89</th>\n",
       "      <td>2021-09-26</td>\n",
       "      <td>805.0</td>\n",
       "      <td>1011.0</td>\n",
       "      <td>1055.0</td>\n",
       "      <td>193.0</td>\n",
       "      <td>93.0</td>\n",
       "      <td>NaN</td>\n",
       "      <td>5614448.0</td>\n",
       "      <td>3943347.0</td>\n",
       "      <td>-4.500381e+06</td>\n",
       "      <td>NaN</td>\n",
       "      <td>1.043521</td>\n",
       "      <td>0.190900</td>\n",
       "      <td>0.091988</td>\n",
       "      <td>NaN</td>\n",
       "      <td>NaN</td>\n",
       "    </tr>\n",
       "    <tr>\n",
       "      <th>90</th>\n",
       "      <td>2021-09-27</td>\n",
       "      <td>835.0</td>\n",
       "      <td>996.0</td>\n",
       "      <td>1005.0</td>\n",
       "      <td>190.0</td>\n",
       "      <td>85.0</td>\n",
       "      <td>NaN</td>\n",
       "      <td>5626658.0</td>\n",
       "      <td>3968843.0</td>\n",
       "      <td>-4.521448e+06</td>\n",
       "      <td>NaN</td>\n",
       "      <td>1.009036</td>\n",
       "      <td>0.190763</td>\n",
       "      <td>0.085341</td>\n",
       "      <td>NaN</td>\n",
       "      <td>NaN</td>\n",
       "    </tr>\n",
       "    <tr>\n",
       "      <th>91</th>\n",
       "      <td>2021-09-28</td>\n",
       "      <td>906.0</td>\n",
       "      <td>966.0</td>\n",
       "      <td>981.0</td>\n",
       "      <td>188.0</td>\n",
       "      <td>75.0</td>\n",
       "      <td>NaN</td>\n",
       "      <td>5660515.0</td>\n",
       "      <td>4048903.0</td>\n",
       "      <td>-4.586107e+06</td>\n",
       "      <td>NaN</td>\n",
       "      <td>1.015528</td>\n",
       "      <td>0.194617</td>\n",
       "      <td>0.077640</td>\n",
       "      <td>NaN</td>\n",
       "      <td>NaN</td>\n",
       "    </tr>\n",
       "    <tr>\n",
       "      <th>92</th>\n",
       "      <td>2021-09-29</td>\n",
       "      <td>968.0</td>\n",
       "      <td>934.0</td>\n",
       "      <td>959.0</td>\n",
       "      <td>181.0</td>\n",
       "      <td>75.0</td>\n",
       "      <td>NaN</td>\n",
       "      <td>5693944.0</td>\n",
       "      <td>4132602.0</td>\n",
       "      <td>-4.653049e+06</td>\n",
       "      <td>NaN</td>\n",
       "      <td>1.026767</td>\n",
       "      <td>0.193790</td>\n",
       "      <td>0.080300</td>\n",
       "      <td>NaN</td>\n",
       "      <td>NaN</td>\n",
       "    </tr>\n",
       "    <tr>\n",
       "      <th>93</th>\n",
       "      <td>2021-09-30</td>\n",
       "      <td>842.0</td>\n",
       "      <td>922.0</td>\n",
       "      <td>978.0</td>\n",
       "      <td>170.0</td>\n",
       "      <td>76.0</td>\n",
       "      <td>NaN</td>\n",
       "      <td>5724869.0</td>\n",
       "      <td>4204036.0</td>\n",
       "      <td>-4.710980e+06</td>\n",
       "      <td>NaN</td>\n",
       "      <td>1.060738</td>\n",
       "      <td>0.184382</td>\n",
       "      <td>0.082430</td>\n",
       "      <td>NaN</td>\n",
       "      <td>NaN</td>\n",
       "    </tr>\n",
       "    <tr>\n",
       "      <th>94</th>\n",
       "      <td>2021-10-01</td>\n",
       "      <td>829.0</td>\n",
       "      <td>901.0</td>\n",
       "      <td>959.0</td>\n",
       "      <td>163.0</td>\n",
       "      <td>71.0</td>\n",
       "      <td>NaN</td>\n",
       "      <td>5756898.0</td>\n",
       "      <td>4281843.0</td>\n",
       "      <td>-4.773528e+06</td>\n",
       "      <td>NaN</td>\n",
       "      <td>1.064373</td>\n",
       "      <td>0.180910</td>\n",
       "      <td>0.078801</td>\n",
       "      <td>NaN</td>\n",
       "      <td>NaN</td>\n",
       "    </tr>\n",
       "    <tr>\n",
       "      <th>95</th>\n",
       "      <td>2021-10-02</td>\n",
       "      <td>683.0</td>\n",
       "      <td>871.0</td>\n",
       "      <td>911.0</td>\n",
       "      <td>159.0</td>\n",
       "      <td>74.0</td>\n",
       "      <td>NaN</td>\n",
       "      <td>5785854.0</td>\n",
       "      <td>4366019.0</td>\n",
       "      <td>-4.839297e+06</td>\n",
       "      <td>NaN</td>\n",
       "      <td>1.045924</td>\n",
       "      <td>0.182549</td>\n",
       "      <td>0.084960</td>\n",
       "      <td>NaN</td>\n",
       "      <td>NaN</td>\n",
       "    </tr>\n",
       "    <tr>\n",
       "      <th>96</th>\n",
       "      <td>2021-10-03</td>\n",
       "      <td>629.0</td>\n",
       "      <td>838.0</td>\n",
       "      <td>856.0</td>\n",
       "      <td>153.0</td>\n",
       "      <td>76.0</td>\n",
       "      <td>NaN</td>\n",
       "      <td>5801150.0</td>\n",
       "      <td>4408263.0</td>\n",
       "      <td>-4.872559e+06</td>\n",
       "      <td>NaN</td>\n",
       "      <td>1.021480</td>\n",
       "      <td>0.182578</td>\n",
       "      <td>0.090692</td>\n",
       "      <td>NaN</td>\n",
       "      <td>NaN</td>\n",
       "    </tr>\n",
       "    <tr>\n",
       "      <th>97</th>\n",
       "      <td>2021-10-04</td>\n",
       "      <td>593.0</td>\n",
       "      <td>813.0</td>\n",
       "      <td>812.0</td>\n",
       "      <td>155.0</td>\n",
       "      <td>75.0</td>\n",
       "      <td>NaN</td>\n",
       "      <td>5808414.0</td>\n",
       "      <td>4428775.0</td>\n",
       "      <td>-4.888655e+06</td>\n",
       "      <td>NaN</td>\n",
       "      <td>0.998770</td>\n",
       "      <td>0.190652</td>\n",
       "      <td>0.092251</td>\n",
       "      <td>NaN</td>\n",
       "      <td>NaN</td>\n",
       "    </tr>\n",
       "    <tr>\n",
       "      <th>98</th>\n",
       "      <td>2021-10-05</td>\n",
       "      <td>544.0</td>\n",
       "      <td>778.0</td>\n",
       "      <td>794.0</td>\n",
       "      <td>150.0</td>\n",
       "      <td>NaN</td>\n",
       "      <td>NaN</td>\n",
       "      <td>5815075.0</td>\n",
       "      <td>4442925.0</td>\n",
       "      <td>-4.900308e+06</td>\n",
       "      <td>NaN</td>\n",
       "      <td>1.020566</td>\n",
       "      <td>0.192802</td>\n",
       "      <td>NaN</td>\n",
       "      <td>NaN</td>\n",
       "      <td>NaN</td>\n",
       "    </tr>\n",
       "    <tr>\n",
       "      <th>99</th>\n",
       "      <td>2021-10-06</td>\n",
       "      <td>631.0</td>\n",
       "      <td>726.0</td>\n",
       "      <td>769.0</td>\n",
       "      <td>143.0</td>\n",
       "      <td>NaN</td>\n",
       "      <td>NaN</td>\n",
       "      <td>5844107.0</td>\n",
       "      <td>4538018.0</td>\n",
       "      <td>-4.973381e+06</td>\n",
       "      <td>NaN</td>\n",
       "      <td>1.059229</td>\n",
       "      <td>0.196970</td>\n",
       "      <td>NaN</td>\n",
       "      <td>NaN</td>\n",
       "      <td>NaN</td>\n",
       "    </tr>\n",
       "    <tr>\n",
       "      <th>100</th>\n",
       "      <td>2021-10-07</td>\n",
       "      <td>671.0</td>\n",
       "      <td>678.0</td>\n",
       "      <td>766.0</td>\n",
       "      <td>NaN</td>\n",
       "      <td>NaN</td>\n",
       "      <td>NaN</td>\n",
       "      <td>5870574.0</td>\n",
       "      <td>4616948.0</td>\n",
       "      <td>-5.034823e+06</td>\n",
       "      <td>NaN</td>\n",
       "      <td>1.129794</td>\n",
       "      <td>NaN</td>\n",
       "      <td>NaN</td>\n",
       "      <td>NaN</td>\n",
       "      <td>NaN</td>\n",
       "    </tr>\n",
       "    <tr>\n",
       "      <th>101</th>\n",
       "      <td>2021-10-08</td>\n",
       "      <td>518.0</td>\n",
       "      <td>654.0</td>\n",
       "      <td>716.0</td>\n",
       "      <td>NaN</td>\n",
       "      <td>NaN</td>\n",
       "      <td>NaN</td>\n",
       "      <td>5894982.0</td>\n",
       "      <td>4693523.0</td>\n",
       "      <td>-5.094009e+06</td>\n",
       "      <td>NaN</td>\n",
       "      <td>1.094801</td>\n",
       "      <td>NaN</td>\n",
       "      <td>NaN</td>\n",
       "      <td>NaN</td>\n",
       "      <td>NaN</td>\n",
       "    </tr>\n",
       "    <tr>\n",
       "      <th>102</th>\n",
       "      <td>2021-10-09</td>\n",
       "      <td>506.0</td>\n",
       "      <td>609.0</td>\n",
       "      <td>711.0</td>\n",
       "      <td>NaN</td>\n",
       "      <td>NaN</td>\n",
       "      <td>NaN</td>\n",
       "      <td>5918121.0</td>\n",
       "      <td>4776653.0</td>\n",
       "      <td>-5.157142e+06</td>\n",
       "      <td>NaN</td>\n",
       "      <td>1.167488</td>\n",
       "      <td>NaN</td>\n",
       "      <td>NaN</td>\n",
       "      <td>NaN</td>\n",
       "      <td>NaN</td>\n",
       "    </tr>\n",
       "    <tr>\n",
       "      <th>103</th>\n",
       "      <td>2021-10-10</td>\n",
       "      <td>444.0</td>\n",
       "      <td>584.0</td>\n",
       "      <td>NaN</td>\n",
       "      <td>NaN</td>\n",
       "      <td>NaN</td>\n",
       "      <td>NaN</td>\n",
       "      <td>5931034.0</td>\n",
       "      <td>4827636.0</td>\n",
       "      <td>-5.195435e+06</td>\n",
       "      <td>NaN</td>\n",
       "      <td>NaN</td>\n",
       "      <td>NaN</td>\n",
       "      <td>NaN</td>\n",
       "      <td>NaN</td>\n",
       "      <td>NaN</td>\n",
       "    </tr>\n",
       "    <tr>\n",
       "      <th>104</th>\n",
       "      <td>2021-10-11</td>\n",
       "      <td>373.0</td>\n",
       "      <td>558.0</td>\n",
       "      <td>NaN</td>\n",
       "      <td>NaN</td>\n",
       "      <td>NaN</td>\n",
       "      <td>NaN</td>\n",
       "      <td>5938082.0</td>\n",
       "      <td>4856736.0</td>\n",
       "      <td>-5.217185e+06</td>\n",
       "      <td>NaN</td>\n",
       "      <td>NaN</td>\n",
       "      <td>NaN</td>\n",
       "      <td>NaN</td>\n",
       "      <td>NaN</td>\n",
       "      <td>NaN</td>\n",
       "    </tr>\n",
       "    <tr>\n",
       "      <th>105</th>\n",
       "      <td>2021-10-12</td>\n",
       "      <td>439.0</td>\n",
       "      <td>526.0</td>\n",
       "      <td>NaN</td>\n",
       "      <td>NaN</td>\n",
       "      <td>NaN</td>\n",
       "      <td>NaN</td>\n",
       "      <td>5959853.0</td>\n",
       "      <td>4939216.0</td>\n",
       "      <td>-5.279428e+06</td>\n",
       "      <td>NaN</td>\n",
       "      <td>NaN</td>\n",
       "      <td>NaN</td>\n",
       "      <td>NaN</td>\n",
       "      <td>NaN</td>\n",
       "      <td>NaN</td>\n",
       "    </tr>\n",
       "    <tr>\n",
       "      <th>106</th>\n",
       "      <td>2021-10-13</td>\n",
       "      <td>346.0</td>\n",
       "      <td>511.0</td>\n",
       "      <td>NaN</td>\n",
       "      <td>NaN</td>\n",
       "      <td>NaN</td>\n",
       "      <td>NaN</td>\n",
       "      <td>5981468.0</td>\n",
       "      <td>5025898.0</td>\n",
       "      <td>-5.344421e+06</td>\n",
       "      <td>NaN</td>\n",
       "      <td>NaN</td>\n",
       "      <td>NaN</td>\n",
       "      <td>NaN</td>\n",
       "      <td>NaN</td>\n",
       "      <td>NaN</td>\n",
       "    </tr>\n",
       "    <tr>\n",
       "      <th>612</th>\n",
       "      <td>2021-10-14</td>\n",
       "      <td>NaN</td>\n",
       "      <td>NaN</td>\n",
       "      <td>NaN</td>\n",
       "      <td>NaN</td>\n",
       "      <td>NaN</td>\n",
       "      <td>NaN</td>\n",
       "      <td>6000795.0</td>\n",
       "      <td>5105834.0</td>\n",
       "      <td>-5.404154e+06</td>\n",
       "      <td>0.0</td>\n",
       "      <td>NaN</td>\n",
       "      <td>NaN</td>\n",
       "      <td>NaN</td>\n",
       "      <td>NaN</td>\n",
       "      <td>NaN</td>\n",
       "    </tr>\n",
       "  </tbody>\n",
       "</table>\n",
       "</div>"
      ],
      "text/plain": [
       "          DATE   CASES  AVG_CASES    HOSP    ICU   VENT  DEATHS   ONE_DOSE  \\\n",
       "78  2021-09-15  1324.0     1327.0  1206.0  233.0  118.0     7.0  5257327.0   \n",
       "79  2021-09-16  1266.0     1311.0  1268.0  232.0  117.0    10.0  5296975.0   \n",
       "80  2021-09-17  1290.0     1274.0  1232.0  229.0  115.0     8.0  5332793.0   \n",
       "81  2021-09-18  1077.0     1250.0  1244.0  222.0  113.0    11.0  5374576.0   \n",
       "82  2021-09-19   911.0     1224.0  1186.0  214.0  108.0    11.0  5398633.0   \n",
       "83  2021-09-20  1044.0     1187.0  1187.0  213.0  105.0     6.0  5413928.0   \n",
       "84  2021-09-21  1126.0     1158.0  1146.0  212.0  104.0     8.0  5450534.0   \n",
       "85  2021-09-22  1056.0     1148.0  1155.0  213.0   99.0     5.0  5486424.0   \n",
       "86  2021-09-23   991.0     1110.0  1155.0  210.0   93.0     4.0  5522265.0   \n",
       "87  2021-09-24  1035.0     1070.0  1082.0  202.0   97.0     6.0  5558500.0   \n",
       "88  2021-09-25   916.0     1034.0  1090.0  195.0   94.0     NaN  5592648.0   \n",
       "89  2021-09-26   805.0     1011.0  1055.0  193.0   93.0     NaN  5614448.0   \n",
       "90  2021-09-27   835.0      996.0  1005.0  190.0   85.0     NaN  5626658.0   \n",
       "91  2021-09-28   906.0      966.0   981.0  188.0   75.0     NaN  5660515.0   \n",
       "92  2021-09-29   968.0      934.0   959.0  181.0   75.0     NaN  5693944.0   \n",
       "93  2021-09-30   842.0      922.0   978.0  170.0   76.0     NaN  5724869.0   \n",
       "94  2021-10-01   829.0      901.0   959.0  163.0   71.0     NaN  5756898.0   \n",
       "95  2021-10-02   683.0      871.0   911.0  159.0   74.0     NaN  5785854.0   \n",
       "96  2021-10-03   629.0      838.0   856.0  153.0   76.0     NaN  5801150.0   \n",
       "97  2021-10-04   593.0      813.0   812.0  155.0   75.0     NaN  5808414.0   \n",
       "98  2021-10-05   544.0      778.0   794.0  150.0    NaN     NaN  5815075.0   \n",
       "99  2021-10-06   631.0      726.0   769.0  143.0    NaN     NaN  5844107.0   \n",
       "100 2021-10-07   671.0      678.0   766.0    NaN    NaN     NaN  5870574.0   \n",
       "101 2021-10-08   518.0      654.0   716.0    NaN    NaN     NaN  5894982.0   \n",
       "102 2021-10-09   506.0      609.0   711.0    NaN    NaN     NaN  5918121.0   \n",
       "103 2021-10-10   444.0      584.0     NaN    NaN    NaN     NaN  5931034.0   \n",
       "104 2021-10-11   373.0      558.0     NaN    NaN    NaN     NaN  5938082.0   \n",
       "105 2021-10-12   439.0      526.0     NaN    NaN    NaN     NaN  5959853.0   \n",
       "106 2021-10-13   346.0      511.0     NaN    NaN    NaN     NaN  5981468.0   \n",
       "612 2021-10-14     NaN        NaN     NaN    NaN    NaN     NaN  6000795.0   \n",
       "\n",
       "     TWO_DOSES     VAX_INDEX  AVG_DEATHS  HOSP_RATE  ICU_RATE  VENT_RATE  \\\n",
       "78   3186444.0 -3.876738e+06         9.0   0.908817  0.175584   0.088922   \n",
       "79   3256358.0 -3.936564e+06         9.0   0.967201  0.176964   0.089245   \n",
       "80   3320667.0 -3.991376e+06         9.0   0.967033  0.179749   0.090267   \n",
       "81   3408100.0 -4.063592e+06         9.0   0.995200  0.177600   0.090400   \n",
       "82   3456741.0 -4.104038e+06         8.0   0.968954  0.174837   0.088235   \n",
       "83   3482945.0 -4.126606e+06         9.0   1.000000  0.179444   0.088458   \n",
       "84   3558711.0 -4.189319e+06         8.0   0.989637  0.183074   0.089810   \n",
       "85   3640998.0 -4.256140e+06         8.0   1.006098  0.185540   0.086237   \n",
       "86   3718288.0 -4.319614e+06         8.0   1.040541  0.189189   0.083784   \n",
       "87   3796695.0 -4.383963e+06         7.0   1.011215  0.188785   0.090654   \n",
       "88   3889864.0 -4.457459e+06         7.0   1.054159  0.188588   0.090909   \n",
       "89   3943347.0 -4.500381e+06         NaN   1.043521  0.190900   0.091988   \n",
       "90   3968843.0 -4.521448e+06         NaN   1.009036  0.190763   0.085341   \n",
       "91   4048903.0 -4.586107e+06         NaN   1.015528  0.194617   0.077640   \n",
       "92   4132602.0 -4.653049e+06         NaN   1.026767  0.193790   0.080300   \n",
       "93   4204036.0 -4.710980e+06         NaN   1.060738  0.184382   0.082430   \n",
       "94   4281843.0 -4.773528e+06         NaN   1.064373  0.180910   0.078801   \n",
       "95   4366019.0 -4.839297e+06         NaN   1.045924  0.182549   0.084960   \n",
       "96   4408263.0 -4.872559e+06         NaN   1.021480  0.182578   0.090692   \n",
       "97   4428775.0 -4.888655e+06         NaN   0.998770  0.190652   0.092251   \n",
       "98   4442925.0 -4.900308e+06         NaN   1.020566  0.192802        NaN   \n",
       "99   4538018.0 -4.973381e+06         NaN   1.059229  0.196970        NaN   \n",
       "100  4616948.0 -5.034823e+06         NaN   1.129794       NaN        NaN   \n",
       "101  4693523.0 -5.094009e+06         NaN   1.094801       NaN        NaN   \n",
       "102  4776653.0 -5.157142e+06         NaN   1.167488       NaN        NaN   \n",
       "103  4827636.0 -5.195435e+06         NaN        NaN       NaN        NaN   \n",
       "104  4856736.0 -5.217185e+06         NaN        NaN       NaN        NaN   \n",
       "105  4939216.0 -5.279428e+06         NaN        NaN       NaN        NaN   \n",
       "106  5025898.0 -5.344421e+06         NaN        NaN       NaN        NaN   \n",
       "612  5105834.0 -5.404154e+06         0.0        NaN       NaN        NaN   \n",
       "\n",
       "     AVG_DEATH_RATE  DEATH_RATE  \n",
       "78         0.007474    0.005287  \n",
       "79         0.007532    0.007899  \n",
       "80         0.007255    0.006202  \n",
       "81         0.007554    0.010214  \n",
       "82         0.007312    0.012075  \n",
       "83         0.007816    0.005747  \n",
       "84         0.007491    0.007105  \n",
       "85         0.007790    0.004735  \n",
       "86         0.007711    0.004036  \n",
       "87         0.007159    0.005797  \n",
       "88         0.007101         NaN  \n",
       "89              NaN         NaN  \n",
       "90              NaN         NaN  \n",
       "91              NaN         NaN  \n",
       "92              NaN         NaN  \n",
       "93              NaN         NaN  \n",
       "94              NaN         NaN  \n",
       "95              NaN         NaN  \n",
       "96              NaN         NaN  \n",
       "97              NaN         NaN  \n",
       "98              NaN         NaN  \n",
       "99              NaN         NaN  \n",
       "100             NaN         NaN  \n",
       "101             NaN         NaN  \n",
       "102             NaN         NaN  \n",
       "103             NaN         NaN  \n",
       "104             NaN         NaN  \n",
       "105             NaN         NaN  \n",
       "106             NaN         NaN  \n",
       "612             NaN         NaN  "
      ]
     },
     "execution_count": 29,
     "metadata": {},
     "output_type": "execute_result"
    }
   ],
   "source": [
    "cases_lag.sort_values(\"DATE\").tail(30)"
   ]
  },
  {
   "cell_type": "code",
   "execution_count": 95,
   "id": "58cc2317",
   "metadata": {
    "scrolled": false
   },
   "outputs": [
    {
     "data": {
      "text/plain": [
       "<AxesSubplot:xlabel='DATE'>"
      ]
     },
     "execution_count": 95,
     "metadata": {},
     "output_type": "execute_result"
    },
    {
     "data": {
      "image/png": "[encoded data removed]",
      "text/plain": [
       "<Figure size 720x576 with 1 Axes>"
      ]
     },
     "metadata": {
      "needs_background": "light"
     },
     "output_type": "display_data"
    }
   ],
   "source": [
    "rates = cases_lag[[\"DATE\",\"AVG_CASES\",\"HOSP_RATE\",\"ICU_RATE\",\"VENT_RATE\",\"AVG_DEATH_RATE\",\"VAX_INDEX\"]]\n",
    "rates = rates[(rates[\"DATE\"]>\"2021-06-16\")&(rates[\"DATE\"]<\"2021-11-01\")]\n",
    "rates[\"VAX_INDEX\"] = rates[\"VAX_INDEX\"]/100000\n",
    "rates[\"AVG_CASES\"] = rates[\"AVG_CASES\"]/10\n",
    "rates.plot(\n",
    "    kind = \"line\",\n",
    "    x=\"DATE\",\n",
    "    y=[\"AVG_CASES\",\"HOSP_RATE\",\"ICU_RATE\",\"VENT_RATE\",\"VAX_INDEX\"],\n",
    "    figsize = [10,8],\n",
    "    grid=True\n",
    ")\n"
   ]
  },
  {
   "cell_type": "code",
   "execution_count": 210,
   "id": "659fae10",
   "metadata": {
    "scrolled": false
   },
   "outputs": [
    {
     "data": {
      "text/plain": [
       "<AxesSubplot:xlabel='DATE'>"
      ]
     },
     "execution_count": 210,
     "metadata": {},
     "output_type": "execute_result"
    },
    {
     "data": {
      "image/png": "[encoded data removed]",
      "text/plain": [
       "<Figure size 720x432 with 1 Axes>"
      ]
     },
     "metadata": {
      "needs_background": "light"
     },
     "output_type": "display_data"
    }
   ],
   "source": [
    "rates = cases_lag[[\"DATE\",\"AVG_CASES\",\"HOSP_RATE\",\"ICU_RATE\",\"VENT_RATE\",\"AVG_DEATH_RATE\",\"VAX_INDEX\"]]\n",
    "rates = rates[(rates[\"DATE\"]>\"2021-06-16\")&(rates[\"DATE\"]<\"2021-11-01\")]\n",
    "popNSW = 8166000\n",
    "fullVax = popNSW*1.2\n",
    "rates[\"VAX_INDEX\"] = rates[\"VAX_INDEX\"]/fullVax\n",
    "rates[\"VAX_HOVER\"] = round(rates[\"VAX_INDEX\"]*-100,2)\n",
    "rates[\"AVG_CASES_SCALED\"] = rates[\"AVG_CASES\"]/500\n",
    "rates.plot(\n",
    "    kind = \"line\",\n",
    "    x=\"DATE\",\n",
    "    y=[\"AVG_CASES_SCALED\",\"AVG_DEATH_RATE\",\"VAX_INDEX\"],\n",
    "    figsize = [10,6],\n",
    "    grid=True\n",
    ")\n"
   ]
  },
  {
   "cell_type": "code",
   "execution_count": 215,
   "id": "f9bfce9e",
   "metadata": {
    "scrolled": false
   },
   "outputs": [
    {
     "data": {
      "application/vnd.plotly.v1+json": {
       "config": {
        "plotlyServerURL": "https://plot.ly"
       },
       "data": [
        {
         "hovertemplate": "Date=%{x}<br>Death Rate (%)=%{y}<extra></extra>",
         "legendgroup": "",
         "line": {
          "color": "orange",
          "dash": "solid"
         },
         "marker": {
          "symbol": "circle"
         },
         "mode": "lines",
         "name": "",
         "orientation": "v",
         "showlegend": false,
         "type": "scatter",
         "x": [
          "2021-06-29T00:00:00",
          "2021-06-30T00:00:00",
          "2021-07-01T00:00:00",
          "2021-07-02T00:00:00",
          "2021-07-03T00:00:00",
          "2021-07-04T00:00:00",
          "2021-07-05T00:00:00",
          "2021-07-06T00:00:00",
          "2021-07-07T00:00:00",
          "2021-07-08T00:00:00",
          "2021-07-09T00:00:00",
          "2021-07-10T00:00:00",
          "2021-07-11T00:00:00",
          "2021-07-12T00:00:00",
          "2021-07-13T00:00:00",
          "2021-07-14T00:00:00",
          "2021-07-15T00:00:00",
          "2021-07-16T00:00:00",
          "2021-07-17T00:00:00",
          "2021-07-18T00:00:00",
          "2021-07-19T00:00:00",
          "2021-07-20T00:00:00",
          "2021-07-21T00:00:00",
          "2021-07-22T00:00:00",
          "2021-07-23T00:00:00",
          "2021-07-24T00:00:00",
          "2021-07-25T00:00:00",
          "2021-07-26T00:00:00",
          "2021-07-27T00:00:00",
          "2021-07-28T00:00:00",
          "2021-07-29T00:00:00",
          "2021-07-30T00:00:00",
          "2021-07-31T00:00:00",
          "2021-08-01T00:00:00",
          "2021-08-02T00:00:00",
          "2021-08-03T00:00:00",
          "2021-08-04T00:00:00",
          "2021-08-05T00:00:00",
          "2021-08-06T00:00:00",
          "2021-08-07T00:00:00",
          "2021-08-08T00:00:00",
          "2021-08-09T00:00:00",
          "2021-08-10T00:00:00",
          "2021-08-11T00:00:00",
          "2021-08-12T00:00:00",
          "2021-08-13T00:00:00",
          "2021-08-14T00:00:00",
          "2021-08-15T00:00:00",
          "2021-08-16T00:00:00",
          "2021-08-17T00:00:00",
          "2021-08-18T00:00:00",
          "2021-08-19T00:00:00",
          "2021-08-20T00:00:00",
          "2021-08-21T00:00:00",
          "2021-08-22T00:00:00",
          "2021-08-23T00:00:00",
          "2021-08-24T00:00:00",
          "2021-08-25T00:00:00",
          "2021-08-26T00:00:00",
          "2021-08-27T00:00:00",
          "2021-08-28T00:00:00",
          "2021-08-29T00:00:00",
          "2021-08-30T00:00:00",
          "2021-08-31T00:00:00",
          "2021-09-01T00:00:00",
          "2021-09-02T00:00:00",
          "2021-09-03T00:00:00",
          "2021-09-04T00:00:00",
          "2021-09-05T00:00:00",
          "2021-09-06T00:00:00",
          "2021-09-07T00:00:00",
          "2021-09-08T00:00:00",
          "2021-09-09T00:00:00",
          "2021-09-10T00:00:00",
          "2021-09-11T00:00:00",
          "2021-09-12T00:00:00",
          "2021-09-13T00:00:00",
          "2021-09-14T00:00:00",
          "2021-09-15T00:00:00",
          "2021-09-16T00:00:00",
          "2021-09-17T00:00:00",
          "2021-09-18T00:00:00",
          "2021-09-19T00:00:00",
          "2021-09-20T00:00:00",
          "2021-09-21T00:00:00",
          "2021-09-22T00:00:00",
          "2021-09-23T00:00:00",
          "2021-09-24T00:00:00",
          "2021-09-25T00:00:00",
          "2021-09-26T00:00:00",
          "2021-09-27T00:00:00",
          "2021-09-28T00:00:00",
          "2021-09-29T00:00:00",
          "2021-09-30T00:00:00",
          "2021-10-01T00:00:00",
          "2021-10-02T00:00:00",
          "2021-10-03T00:00:00",
          "2021-10-04T00:00:00",
          "2021-10-05T00:00:00",
          "2021-10-06T00:00:00",
          "2021-10-07T00:00:00",
          "2021-10-08T00:00:00",
          "2021-10-09T00:00:00",
          "2021-10-10T00:00:00",
          "2021-10-11T00:00:00",
          "2021-10-12T00:00:00",
          "2021-10-13T00:00:00",
          "2021-06-17T00:00:00",
          "2021-06-18T00:00:00",
          "2021-06-19T00:00:00",
          "2021-06-20T00:00:00",
          "2021-06-21T00:00:00",
          "2021-06-22T00:00:00",
          "2021-06-23T00:00:00",
          "2021-06-24T00:00:00",
          "2021-06-25T00:00:00",
          "2021-06-26T00:00:00",
          "2021-06-27T00:00:00",
          "2021-06-28T00:00:00",
          "2021-10-14T00:00:00"
         ],
         "xaxis": "x",
         "y": [
          0.03225806451612903,
          0,
          0,
          0,
          0.041666666666666664,
          0,
          0,
          1.056067588325653,
          1.4115646258503403,
          2.1837653980511122,
          2.4943244042622927,
          3.043774953712842,
          2.4485368584747467,
          2.5666006129021377,
          2.5666006129021377,
          1.907259953561478,
          1.1350591813607058,
          1.104612219967453,
          1.1817280865570037,
          1.326028230857148,
          1.8514651199304009,
          2.0679153363806173,
          1.9109294651090318,
          2.3105298647094314,
          2.2288305183042025,
          1.792740292740293,
          1.8525217810932098,
          1.5336964622678908,
          1.8167467453181738,
          2.5400740509239603,
          2.1967166209523574,
          2.233782729447037,
          2.1158228551419853,
          2.1478687313437055,
          2.0441065141794263,
          1.750649970722883,
          1.2089207280710916,
          1.1526777584422951,
          1.0064846658206312,
          1.0758794187128797,
          0.9531305946653543,
          0.8421075970444185,
          0.869617553028489,
          0.8565824904959013,
          0.972100395771219,
          1.0253155721160712,
          1.103668820233301,
          1.5177626628985723,
          1.5203584922660551,
          1.360951886219245,
          1.3224955732815737,
          1.3863900923166397,
          1.4128398305578584,
          1.2852195748928987,
          0.915891486007614,
          0.9570153777792072,
          1.0036410186578946,
          0.9827046368510138,
          0.8328999105421107,
          0.8453551773619353,
          0.9046867997368561,
          0.9011217763241589,
          0.8188216671870576,
          0.869371862130001,
          0.8074270582241013,
          0.8851500460657035,
          0.7559962143306197,
          0.6600795793048465,
          0.6344114497273942,
          0.6958237355573174,
          0.6252619014123301,
          0.7002235496261004,
          0.6626278707565186,
          0.750891029282428,
          0.7535806340943102,
          0.7947373757081009,
          0.7841154900862153,
          0.7979148422977568,
          0.747395155284841,
          0.7531888492176847,
          0.7255149718040823,
          0.7553598950930658,
          0.7311998132330236,
          0.7815945946925691,
          0.7491357410629055,
          0.7789653600499885,
          0.7710773517843367,
          0.7158978201795368,
          0.710119978203515,
          null,
          null,
          null,
          null,
          null,
          null,
          null,
          null,
          null,
          null,
          null,
          null,
          null,
          null,
          null,
          null,
          null,
          null,
          null,
          null,
          null,
          null,
          null,
          null,
          null,
          null,
          null,
          null,
          null,
          null,
          null
         ],
         "yaxis": "y"
        },
        {
         "customdata": [
          [
           0
          ],
          [
           0
          ],
          [
           0
          ],
          [
           0
          ],
          [
           0
          ],
          [
           0
          ],
          [
           0
          ],
          [
           29
          ],
          [
           30
          ],
          [
           31
          ],
          [
           33
          ],
          [
           34
          ],
          [
           46
          ],
          [
           59
          ],
          [
           67
          ],
          [
           75
          ],
          [
           80
          ],
          [
           88
          ],
          [
           97
          ],
          [
           96
          ],
          [
           95
          ],
          [
           94
          ],
          [
           96
          ],
          [
           106
          ],
          [
           112
          ],
          [
           117
          ],
          [
           123
          ],
          [
           132
          ],
          [
           143
          ],
          [
           150
          ],
          [
           166
          ],
          [
           171
          ],
          [
           178
          ],
          [
           193
          ],
          [
           195
          ],
          [
           205
          ],
          [
           216
          ],
          [
           215
          ],
          [
           235
          ],
          [
           250
          ],
          [
           251
          ],
          [
           260
          ],
          [
           283
          ],
          [
           298
          ],
          [
           315
          ],
          [
           327
          ],
          [
           349
          ],
          [
           359
          ],
          [
           395
          ],
          [
           425
          ],
          [
           455
          ],
          [
           493
          ],
          [
           544
          ],
          [
           589
          ],
          [
           659
          ],
          [
           693
          ],
          [
           729
          ],
          [
           781
          ],
          [
           828
          ],
          [
           854
          ],
          [
           905
          ],
          [
           947
          ],
          [
           1013
          ],
          [
           1049
          ],
          [
           1091
          ],
          [
           1144
          ],
          [
           1204
          ],
          [
           1261
          ],
          [
           1277
          ],
          [
           1274
          ],
          [
           1302
          ],
          [
           1329
          ],
          [
           1344
          ],
          [
           1367
          ],
          [
           1357
          ],
          [
           1363
          ],
          [
           1361
          ],
          [
           1356
          ],
          [
           1327
          ],
          [
           1311
          ],
          [
           1274
          ],
          [
           1250
          ],
          [
           1224
          ],
          [
           1187
          ],
          [
           1158
          ],
          [
           1148
          ],
          [
           1110
          ],
          [
           1070
          ],
          [
           1034
          ],
          [
           1011
          ],
          [
           996
          ],
          [
           966
          ],
          [
           934
          ],
          [
           922
          ],
          [
           901
          ],
          [
           871
          ],
          [
           838
          ],
          [
           813
          ],
          [
           778
          ],
          [
           726
          ],
          [
           678
          ],
          [
           654
          ],
          [
           609
          ],
          [
           584
          ],
          [
           558
          ],
          [
           526
          ],
          [
           511
          ],
          [
           null
          ],
          [
           null
          ],
          [
           null
          ],
          [
           null
          ],
          [
           null
          ],
          [
           null
          ],
          [
           null
          ],
          [
           null
          ],
          [
           null
          ],
          [
           null
          ],
          [
           null
          ],
          [
           null
          ],
          [
           null
          ]
         ],
         "hovertemplate": "Date=%{x}<br>Cases=%{customdata[0]}<extra></extra>",
         "legendgroup": "",
         "line": {
          "color": "powderblue"
         },
         "marker": {
          "symbol": "circle"
         },
         "mode": "lines",
         "name": "",
         "orientation": "v",
         "showlegend": false,
         "stackgroup": "1",
         "type": "scatter",
         "x": [
          "2021-06-29T00:00:00",
          "2021-06-30T00:00:00",
          "2021-07-01T00:00:00",
          "2021-07-02T00:00:00",
          "2021-07-03T00:00:00",
          "2021-07-04T00:00:00",
          "2021-07-05T00:00:00",
          "2021-07-06T00:00:00",
          "2021-07-07T00:00:00",
          "2021-07-08T00:00:00",
          "2021-07-09T00:00:00",
          "2021-07-10T00:00:00",
          "2021-07-11T00:00:00",
          "2021-07-12T00:00:00",
          "2021-07-13T00:00:00",
          "2021-07-14T00:00:00",
          "2021-07-15T00:00:00",
          "2021-07-16T00:00:00",
          "2021-07-17T00:00:00",
          "2021-07-18T00:00:00",
          "2021-07-19T00:00:00",
          "2021-07-20T00:00:00",
          "2021-07-21T00:00:00",
          "2021-07-22T00:00:00",
          "2021-07-23T00:00:00",
          "2021-07-24T00:00:00",
          "2021-07-25T00:00:00",
          "2021-07-26T00:00:00",
          "2021-07-27T00:00:00",
          "2021-07-28T00:00:00",
          "2021-07-29T00:00:00",
          "2021-07-30T00:00:00",
          "2021-07-31T00:00:00",
          "2021-08-01T00:00:00",
          "2021-08-02T00:00:00",
          "2021-08-03T00:00:00",
          "2021-08-04T00:00:00",
          "2021-08-05T00:00:00",
          "2021-08-06T00:00:00",
          "2021-08-07T00:00:00",
          "2021-08-08T00:00:00",
          "2021-08-09T00:00:00",
          "2021-08-10T00:00:00",
          "2021-08-11T00:00:00",
          "2021-08-12T00:00:00",
          "2021-08-13T00:00:00",
          "2021-08-14T00:00:00",
          "2021-08-15T00:00:00",
          "2021-08-16T00:00:00",
          "2021-08-17T00:00:00",
          "2021-08-18T00:00:00",
          "2021-08-19T00:00:00",
          "2021-08-20T00:00:00",
          "2021-08-21T00:00:00",
          "2021-08-22T00:00:00",
          "2021-08-23T00:00:00",
          "2021-08-24T00:00:00",
          "2021-08-25T00:00:00",
          "2021-08-26T00:00:00",
          "2021-08-27T00:00:00",
          "2021-08-28T00:00:00",
          "2021-08-29T00:00:00",
          "2021-08-30T00:00:00",
          "2021-08-31T00:00:00",
          "2021-09-01T00:00:00",
          "2021-09-02T00:00:00",
          "2021-09-03T00:00:00",
          "2021-09-04T00:00:00",
          "2021-09-05T00:00:00",
          "2021-09-06T00:00:00",
          "2021-09-07T00:00:00",
          "2021-09-08T00:00:00",
          "2021-09-09T00:00:00",
          "2021-09-10T00:00:00",
          "2021-09-11T00:00:00",
          "2021-09-12T00:00:00",
          "2021-09-13T00:00:00",
          "2021-09-14T00:00:00",
          "2021-09-15T00:00:00",
          "2021-09-16T00:00:00",
          "2021-09-17T00:00:00",
          "2021-09-18T00:00:00",
          "2021-09-19T00:00:00",
          "2021-09-20T00:00:00",
          "2021-09-21T00:00:00",
          "2021-09-22T00:00:00",
          "2021-09-23T00:00:00",
          "2021-09-24T00:00:00",
          "2021-09-25T00:00:00",
          "2021-09-26T00:00:00",
          "2021-09-27T00:00:00",
          "2021-09-28T00:00:00",
          "2021-09-29T00:00:00",
          "2021-09-30T00:00:00",
          "2021-10-01T00:00:00",
          "2021-10-02T00:00:00",
          "2021-10-03T00:00:00",
          "2021-10-04T00:00:00",
          "2021-10-05T00:00:00",
          "2021-10-06T00:00:00",
          "2021-10-07T00:00:00",
          "2021-10-08T00:00:00",
          "2021-10-09T00:00:00",
          "2021-10-10T00:00:00",
          "2021-10-11T00:00:00",
          "2021-10-12T00:00:00",
          "2021-10-13T00:00:00",
          "2021-06-17T00:00:00",
          "2021-06-18T00:00:00",
          "2021-06-19T00:00:00",
          "2021-06-20T00:00:00",
          "2021-06-21T00:00:00",
          "2021-06-22T00:00:00",
          "2021-06-23T00:00:00",
          "2021-06-24T00:00:00",
          "2021-06-25T00:00:00",
          "2021-06-26T00:00:00",
          "2021-06-27T00:00:00",
          "2021-06-28T00:00:00",
          "2021-10-14T00:00:00"
         ],
         "xaxis": "x",
         "y": [
          0,
          0,
          0,
          0,
          0,
          0,
          0,
          0.058,
          0.06,
          0.062,
          0.066,
          0.068,
          0.092,
          0.118,
          0.134,
          0.15,
          0.16,
          0.176,
          0.194,
          0.192,
          0.19,
          0.188,
          0.192,
          0.212,
          0.224,
          0.234,
          0.246,
          0.264,
          0.286,
          0.3,
          0.332,
          0.342,
          0.356,
          0.386,
          0.39,
          0.41,
          0.432,
          0.43,
          0.47,
          0.5,
          0.502,
          0.52,
          0.566,
          0.596,
          0.63,
          0.654,
          0.698,
          0.718,
          0.79,
          0.85,
          0.91,
          0.986,
          1.088,
          1.178,
          1.318,
          1.386,
          1.458,
          1.562,
          1.656,
          1.708,
          1.81,
          1.894,
          2.026,
          2.098,
          2.182,
          2.288,
          2.408,
          2.522,
          2.554,
          2.548,
          2.604,
          2.658,
          2.688,
          2.734,
          2.714,
          2.726,
          2.722,
          2.712,
          2.654,
          2.622,
          2.548,
          2.5,
          2.448,
          2.374,
          2.316,
          2.296,
          2.22,
          2.14,
          2.068,
          2.022,
          1.992,
          1.932,
          1.868,
          1.844,
          1.802,
          1.742,
          1.676,
          1.626,
          1.556,
          1.452,
          1.356,
          1.308,
          1.218,
          1.168,
          1.116,
          1.052,
          1.022,
          null,
          null,
          null,
          null,
          null,
          null,
          null,
          null,
          null,
          null,
          null,
          null,
          null
         ],
         "yaxis": "y"
        },
        {
         "alignmentgroup": "True",
         "customdata": [
          [
           8.94
          ],
          [
           9.1
          ],
          [
           9.26
          ],
          [
           9.7
          ],
          [
           9.92
          ],
          [
           10.06
          ],
          [
           10.12
          ],
          [
           10.12
          ],
          [
           10.61
          ],
          [
           10.84
          ],
          [
           11.09
          ],
          [
           11.33
          ],
          [
           11.48
          ],
          [
           11.55
          ],
          [
           11.82
          ],
          [
           12.15
          ],
          [
           12.45
          ],
          [
           12.78
          ],
          [
           13.09
          ],
          [
           13.27
          ],
          [
           13.36
          ],
          [
           13.66
          ],
          [
           13.98
          ],
          [
           14.37
          ],
          [
           14.73
          ],
          [
           15.07
          ],
          [
           15.31
          ],
          [
           15.43
          ],
          [
           15.72
          ],
          [
           16.11
          ],
          [
           16.69
          ],
          [
           17.07
          ],
          [
           17.51
          ],
          [
           17.76
          ],
          [
           17.9
          ],
          [
           18.28
          ],
          [
           18.74
          ],
          [
           19.18
          ],
          [
           19.66
          ],
          [
           20.11
          ],
          [
           20.47
          ],
          [
           20.6
          ],
          [
           21.03
          ],
          [
           21.62
          ],
          [
           22.14
          ],
          [
           22.68
          ],
          [
           23.24
          ],
          [
           23.54
          ],
          [
           23.75
          ],
          [
           24.26
          ],
          [
           24.8
          ],
          [
           25.43
          ],
          [
           26.01
          ],
          [
           26.62
          ],
          [
           26.99
          ],
          [
           27.24
          ],
          [
           27.83
          ],
          [
           28.45
          ],
          [
           29.12
          ],
          [
           29.78
          ],
          [
           30.43
          ],
          [
           30.76
          ],
          [
           31.07
          ],
          [
           31.78
          ],
          [
           32.37
          ],
          [
           33.03
          ],
          [
           33.6
          ],
          [
           34.22
          ],
          [
           34.65
          ],
          [
           34.86
          ],
          [
           35.37
          ],
          [
           35.94
          ],
          [
           36.53
          ],
          [
           37.15
          ],
          [
           37.79
          ],
          [
           38.15
          ],
          [
           38.35
          ],
          [
           38.98
          ],
          [
           39.56
          ],
          [
           40.17
          ],
          [
           40.73
          ],
          [
           41.47
          ],
          [
           41.88
          ],
          [
           42.11
          ],
          [
           42.75
          ],
          [
           43.43
          ],
          [
           44.08
          ],
          [
           44.74
          ],
          [
           45.49
          ],
          [
           45.93
          ],
          [
           46.14
          ],
          [
           46.8
          ],
          [
           47.48
          ],
          [
           48.08
          ],
          [
           48.71
          ],
          [
           49.38
          ],
          [
           49.72
          ],
          [
           49.89
          ],
          [
           50.01
          ],
          [
           50.75
          ],
          [
           51.38
          ],
          [
           51.98
          ],
          [
           52.63
          ],
          [
           53.02
          ],
          [
           53.24
          ],
          [
           53.88
          ],
          [
           54.54
          ],
          [
           7.01
          ],
          [
           7.15
          ],
          [
           7.28
          ],
          [
           7.33
          ],
          [
           7.68
          ],
          [
           7.8
          ],
          [
           7.94
          ],
          [
           8.07
          ],
          [
           8.22
          ],
          [
           8.34
          ],
          [
           8.41
          ],
          [
           8.81
          ],
          [
           55.15
          ]
         ],
         "hovertemplate": "Date=%{x}<br>Vaccination Level (%)=%{customdata[0]}<extra></extra>",
         "legendgroup": "",
         "marker": {
          "color": "plum",
          "pattern": {
           "shape": ""
          }
         },
         "name": "",
         "offsetgroup": "",
         "orientation": "v",
         "showlegend": false,
         "textposition": "auto",
         "type": "bar",
         "x": [
          "2021-06-29T00:00:00",
          "2021-06-30T00:00:00",
          "2021-07-01T00:00:00",
          "2021-07-02T00:00:00",
          "2021-07-03T00:00:00",
          "2021-07-04T00:00:00",
          "2021-07-05T00:00:00",
          "2021-07-06T00:00:00",
          "2021-07-07T00:00:00",
          "2021-07-08T00:00:00",
          "2021-07-09T00:00:00",
          "2021-07-10T00:00:00",
          "2021-07-11T00:00:00",
          "2021-07-12T00:00:00",
          "2021-07-13T00:00:00",
          "2021-07-14T00:00:00",
          "2021-07-15T00:00:00",
          "2021-07-16T00:00:00",
          "2021-07-17T00:00:00",
          "2021-07-18T00:00:00",
          "2021-07-19T00:00:00",
          "2021-07-20T00:00:00",
          "2021-07-21T00:00:00",
          "2021-07-22T00:00:00",
          "2021-07-23T00:00:00",
          "2021-07-24T00:00:00",
          "2021-07-25T00:00:00",
          "2021-07-26T00:00:00",
          "2021-07-27T00:00:00",
          "2021-07-28T00:00:00",
          "2021-07-29T00:00:00",
          "2021-07-30T00:00:00",
          "2021-07-31T00:00:00",
          "2021-08-01T00:00:00",
          "2021-08-02T00:00:00",
          "2021-08-03T00:00:00",
          "2021-08-04T00:00:00",
          "2021-08-05T00:00:00",
          "2021-08-06T00:00:00",
          "2021-08-07T00:00:00",
          "2021-08-08T00:00:00",
          "2021-08-09T00:00:00",
          "2021-08-10T00:00:00",
          "2021-08-11T00:00:00",
          "2021-08-12T00:00:00",
          "2021-08-13T00:00:00",
          "2021-08-14T00:00:00",
          "2021-08-15T00:00:00",
          "2021-08-16T00:00:00",
          "2021-08-17T00:00:00",
          "2021-08-18T00:00:00",
          "2021-08-19T00:00:00",
          "2021-08-20T00:00:00",
          "2021-08-21T00:00:00",
          "2021-08-22T00:00:00",
          "2021-08-23T00:00:00",
          "2021-08-24T00:00:00",
          "2021-08-25T00:00:00",
          "2021-08-26T00:00:00",
          "2021-08-27T00:00:00",
          "2021-08-28T00:00:00",
          "2021-08-29T00:00:00",
          "2021-08-30T00:00:00",
          "2021-08-31T00:00:00",
          "2021-09-01T00:00:00",
          "2021-09-02T00:00:00",
          "2021-09-03T00:00:00",
          "2021-09-04T00:00:00",
          "2021-09-05T00:00:00",
          "2021-09-06T00:00:00",
          "2021-09-07T00:00:00",
          "2021-09-08T00:00:00",
          "2021-09-09T00:00:00",
          "2021-09-10T00:00:00",
          "2021-09-11T00:00:00",
          "2021-09-12T00:00:00",
          "2021-09-13T00:00:00",
          "2021-09-14T00:00:00",
          "2021-09-15T00:00:00",
          "2021-09-16T00:00:00",
          "2021-09-17T00:00:00",
          "2021-09-18T00:00:00",
          "2021-09-19T00:00:00",
          "2021-09-20T00:00:00",
          "2021-09-21T00:00:00",
          "2021-09-22T00:00:00",
          "2021-09-23T00:00:00",
          "2021-09-24T00:00:00",
          "2021-09-25T00:00:00",
          "2021-09-26T00:00:00",
          "2021-09-27T00:00:00",
          "2021-09-28T00:00:00",
          "2021-09-29T00:00:00",
          "2021-09-30T00:00:00",
          "2021-10-01T00:00:00",
          "2021-10-02T00:00:00",
          "2021-10-03T00:00:00",
          "2021-10-04T00:00:00",
          "2021-10-05T00:00:00",
          "2021-10-06T00:00:00",
          "2021-10-07T00:00:00",
          "2021-10-08T00:00:00",
          "2021-10-09T00:00:00",
          "2021-10-10T00:00:00",
          "2021-10-11T00:00:00",
          "2021-10-12T00:00:00",
          "2021-10-13T00:00:00",
          "2021-06-17T00:00:00",
          "2021-06-18T00:00:00",
          "2021-06-19T00:00:00",
          "2021-06-20T00:00:00",
          "2021-06-21T00:00:00",
          "2021-06-22T00:00:00",
          "2021-06-23T00:00:00",
          "2021-06-24T00:00:00",
          "2021-06-25T00:00:00",
          "2021-06-26T00:00:00",
          "2021-06-27T00:00:00",
          "2021-06-28T00:00:00",
          "2021-10-14T00:00:00"
         ],
         "xaxis": "x",
         "y": [
          -0.08942546330312678,
          -0.09099055705227638,
          -0.09263909298718263,
          -0.09698771328271695,
          -0.09916020355403161,
          -0.10063100389147414,
          -0.10121513320815305,
          -0.10121513320815305,
          -0.10608365989060331,
          -0.10844514518191962,
          -0.11094756034506217,
          -0.11330108580292268,
          -0.1148283873513484,
          -0.11553643834870875,
          -0.11821822189566496,
          -0.12154965031159005,
          -0.1245427517892617,
          -0.12782383595939803,
          -0.13086360791357118,
          -0.13267429994285249,
          -0.13356685579775218,
          -0.1366021375894631,
          -0.1397985890004626,
          -0.14370462214602553,
          -0.1472900508885079,
          -0.15074441451002804,
          -0.1531156284866792,
          -0.15432079489482134,
          -0.15722405910686588,
          -0.161122370533649,
          -0.16686644487985414,
          -0.17072254197621572,
          -0.17506276022532452,
          -0.17758544915231175,
          -0.17895515280158925,
          -0.1827773695811903,
          -0.18744179796990232,
          -0.19176351130704547,
          -0.19655890276757287,
          -0.201096892263314,
          -0.20474253000244919,
          -0.2059619492747707,
          -0.21030033063923587,
          -0.21616621765042043,
          -0.22139735896807902,
          -0.2267977658040112,
          -0.23235478406400523,
          -0.23537496258197949,
          -0.23746996353443817,
          -0.2426440593789969,
          -0.2479806514817536,
          -0.2542954186736332,
          -0.2600902454622146,
          -0.2661776131384875,
          -0.26991046888181347,
          -0.27243237543200804,
          -0.27829574523090317,
          -0.2844601940294446,
          -0.2911749938770512,
          -0.2977990380167089,
          -0.3042846694968297,
          -0.3076026954581327,
          -0.3106592715051569,
          -0.31780240563855555,
          -0.3236956758374833,
          -0.33030427653958144,
          -0.33595126813073173,
          -0.3421585775709582,
          -0.34650910278390074,
          -0.3486173020926878,
          -0.35369489346069066,
          -0.3593911747897788,
          -0.36525059868832827,
          -0.37152121261599585,
          -0.3779416687076496,
          -0.3814874003319999,
          -0.3835283492530002,
          -0.3898287955479359,
          -0.395617839551528,
          -0.4017229637793561,
          -0.407316481617547,
          -0.4146860968242306,
          -0.41881361063488176,
          -0.42111662176504205,
          -0.4275163958962636,
          -0.4343354559555882,
          -0.44081288948757724,
          -0.44737971807222354,
          -0.4548798541377528,
          -0.4592600076196697,
          -0.46140991101314394,
          -0.46800830680055516,
          -0.4748397148066508,
          -0.48075152393392656,
          -0.48713445995591476,
          -0.493846164312733,
          -0.4972404550031295,
          -0.4988830380711351,
          -0.5000722848123657,
          -0.5075292881051514,
          -0.5137994258034669,
          -0.5198393066100634,
          -0.5262819753993523,
          -0.530189743380412,
          -0.532409244292051,
          -0.538761157373391,
          -0.5453936375758565,
          -0.07006224997959017,
          -0.07148382861185948,
          -0.07275930688219447,
          -0.0733470079190138,
          -0.07677174327155958,
          -0.07803834326611697,
          -0.0793748129098974,
          -0.08072618172912074,
          -0.08218909026587205,
          -0.08340959806242687,
          -0.08409836177102892,
          -0.08812960921980025,
          -0.5514893392657904
         ],
         "yaxis": "y"
        }
       ],
       "layout": {
        "legend": {
         "tracegroupgap": 0
        },
        "template": {
         "data": {
          "bar": [
           {
            "error_x": {
             "color": "#2a3f5f"
            },
            "error_y": {
             "color": "#2a3f5f"
            },
            "marker": {
             "line": {
              "color": "#E5ECF6",
              "width": 0.5
             },
             "pattern": {
              "fillmode": "overlay",
              "size": 10,
              "solidity": 0.2
             }
            },
            "type": "bar"
           }
          ],
          "barpolar": [
           {
            "marker": {
             "line": {
              "color": "#E5ECF6",
              "width": 0.5
             },
             "pattern": {
              "fillmode": "overlay",
              "size": 10,
              "solidity": 0.2
             }
            },
            "type": "barpolar"
           }
          ],
          "carpet": [
           {
            "aaxis": {
             "endlinecolor": "#2a3f5f",
             "gridcolor": "white",
             "linecolor": "white",
             "minorgridcolor": "white",
             "startlinecolor": "#2a3f5f"
            },
            "baxis": {
             "endlinecolor": "#2a3f5f",
             "gridcolor": "white",
             "linecolor": "white",
             "minorgridcolor": "white",
             "startlinecolor": "#2a3f5f"
            },
            "type": "carpet"
           }
          ],
          "choropleth": [
           {
            "colorbar": {
             "outlinewidth": 0,
             "ticks": ""
            },
            "type": "choropleth"
           }
          ],
          "contour": [
           {
            "colorbar": {
             "outlinewidth": 0,
             "ticks": ""
            },
            "colorscale": [
             [
              0,
              "#0d0887"
             ],
             [
              0.1111111111111111,
              "#46039f"
             ],
             [
              0.2222222222222222,
              "#7201a8"
             ],
             [
              0.3333333333333333,
              "#9c179e"
             ],
             [
              0.4444444444444444,
              "#bd3786"
             ],
             [
              0.5555555555555556,
              "#d8576b"
             ],
             [
              0.6666666666666666,
              "#ed7953"
             ],
             [
              0.7777777777777778,
              "#fb9f3a"
             ],
             [
              0.8888888888888888,
              "#fdca26"
             ],
             [
              1,
              "#f0f921"
             ]
            ],
            "type": "contour"
           }
          ],
          "contourcarpet": [
           {
            "colorbar": {
             "outlinewidth": 0,
             "ticks": ""
            },
            "type": "contourcarpet"
           }
          ],
          "heatmap": [
           {
            "colorbar": {
             "outlinewidth": 0,
             "ticks": ""
            },
            "colorscale": [
             [
              0,
              "#0d0887"
             ],
             [
              0.1111111111111111,
              "#46039f"
             ],
             [
              0.2222222222222222,
              "#7201a8"
             ],
             [
              0.3333333333333333,
              "#9c179e"
             ],
             [
              0.4444444444444444,
              "#bd3786"
             ],
             [
              0.5555555555555556,
              "#d8576b"
             ],
             [
              0.6666666666666666,
              "#ed7953"
             ],
             [
              0.7777777777777778,
              "#fb9f3a"
             ],
             [
              0.8888888888888888,
              "#fdca26"
             ],
             [
              1,
              "#f0f921"
             ]
            ],
            "type": "heatmap"
           }
          ],
          "heatmapgl": [
           {
            "colorbar": {
             "outlinewidth": 0,
             "ticks": ""
            },
            "colorscale": [
             [
              0,
              "#0d0887"
             ],
             [
              0.1111111111111111,
              "#46039f"
             ],
             [
              0.2222222222222222,
              "#7201a8"
             ],
             [
              0.3333333333333333,
              "#9c179e"
             ],
             [
              0.4444444444444444,
              "#bd3786"
             ],
             [
              0.5555555555555556,
              "#d8576b"
             ],
             [
              0.6666666666666666,
              "#ed7953"
             ],
             [
              0.7777777777777778,
              "#fb9f3a"
             ],
             [
              0.8888888888888888,
              "#fdca26"
             ],
             [
              1,
              "#f0f921"
             ]
            ],
            "type": "heatmapgl"
           }
          ],
          "histogram": [
           {
            "marker": {
             "pattern": {
              "fillmode": "overlay",
              "size": 10,
              "solidity": 0.2
             }
            },
            "type": "histogram"
           }
          ],
          "histogram2d": [
           {
            "colorbar": {
             "outlinewidth": 0,
             "ticks": ""
            },
            "colorscale": [
             [
              0,
              "#0d0887"
             ],
             [
              0.1111111111111111,
              "#46039f"
             ],
             [
              0.2222222222222222,
              "#7201a8"
             ],
             [
              0.3333333333333333,
              "#9c179e"
             ],
             [
              0.4444444444444444,
              "#bd3786"
             ],
             [
              0.5555555555555556,
              "#d8576b"
             ],
             [
              0.6666666666666666,
              "#ed7953"
             ],
             [
              0.7777777777777778,
              "#fb9f3a"
             ],
             [
              0.8888888888888888,
              "#fdca26"
             ],
             [
              1,
              "#f0f921"
             ]
            ],
            "type": "histogram2d"
           }
          ],
          "histogram2dcontour": [
           {
            "colorbar": {
             "outlinewidth": 0,
             "ticks": ""
            },
            "colorscale": [
             [
              0,
              "#0d0887"
             ],
             [
              0.1111111111111111,
              "#46039f"
             ],
             [
              0.2222222222222222,
              "#7201a8"
             ],
             [
              0.3333333333333333,
              "#9c179e"
             ],
             [
              0.4444444444444444,
              "#bd3786"
             ],
             [
              0.5555555555555556,
              "#d8576b"
             ],
             [
              0.6666666666666666,
              "#ed7953"
             ],
             [
              0.7777777777777778,
              "#fb9f3a"
             ],
             [
              0.8888888888888888,
              "#fdca26"
             ],
             [
              1,
              "#f0f921"
             ]
            ],
            "type": "histogram2dcontour"
           }
          ],
          "mesh3d": [
           {
            "colorbar": {
             "outlinewidth": 0,
             "ticks": ""
            },
            "type": "mesh3d"
           }
          ],
          "parcoords": [
           {
            "line": {
             "colorbar": {
              "outlinewidth": 0,
              "ticks": ""
             }
            },
            "type": "parcoords"
           }
          ],
          "pie": [
           {
            "automargin": true,
            "type": "pie"
           }
          ],
          "scatter": [
           {
            "marker": {
             "colorbar": {
              "outlinewidth": 0,
              "ticks": ""
             }
            },
            "type": "scatter"
           }
          ],
          "scatter3d": [
           {
            "line": {
             "colorbar": {
              "outlinewidth": 0,
              "ticks": ""
             }
            },
            "marker": {
             "colorbar": {
              "outlinewidth": 0,
              "ticks": ""
             }
            },
            "type": "scatter3d"
           }
          ],
          "scattercarpet": [
           {
            "marker": {
             "colorbar": {
              "outlinewidth": 0,
              "ticks": ""
             }
            },
            "type": "scattercarpet"
           }
          ],
          "scattergeo": [
           {
            "marker": {
             "colorbar": {
              "outlinewidth": 0,
              "ticks": ""
             }
            },
            "type": "scattergeo"
           }
          ],
          "scattergl": [
           {
            "marker": {
             "colorbar": {
              "outlinewidth": 0,
              "ticks": ""
             }
            },
            "type": "scattergl"
           }
          ],
          "scattermapbox": [
           {
            "marker": {
             "colorbar": {
              "outlinewidth": 0,
              "ticks": ""
             }
            },
            "type": "scattermapbox"
           }
          ],
          "scatterpolar": [
           {
            "marker": {
             "colorbar": {
              "outlinewidth": 0,
              "ticks": ""
             }
            },
            "type": "scatterpolar"
           }
          ],
          "scatterpolargl": [
           {
            "marker": {
             "colorbar": {
              "outlinewidth": 0,
              "ticks": ""
             }
            },
            "type": "scatterpolargl"
           }
          ],
          "scatterternary": [
           {
            "marker": {
             "colorbar": {
              "outlinewidth": 0,
              "ticks": ""
             }
            },
            "type": "scatterternary"
           }
          ],
          "surface": [
           {
            "colorbar": {
             "outlinewidth": 0,
             "ticks": ""
            },
            "colorscale": [
             [
              0,
              "#0d0887"
             ],
             [
              0.1111111111111111,
              "#46039f"
             ],
             [
              0.2222222222222222,
              "#7201a8"
             ],
             [
              0.3333333333333333,
              "#9c179e"
             ],
             [
              0.4444444444444444,
              "#bd3786"
             ],
             [
              0.5555555555555556,
              "#d8576b"
             ],
             [
              0.6666666666666666,
              "#ed7953"
             ],
             [
              0.7777777777777778,
              "#fb9f3a"
             ],
             [
              0.8888888888888888,
              "#fdca26"
             ],
             [
              1,
              "#f0f921"
             ]
            ],
            "type": "surface"
           }
          ],
          "table": [
           {
            "cells": {
             "fill": {
              "color": "#EBF0F8"
             },
             "line": {
              "color": "white"
             }
            },
            "header": {
             "fill": {
              "color": "#C8D4E3"
             },
             "line": {
              "color": "white"
             }
            },
            "type": "table"
           }
          ]
         },
         "layout": {
          "annotationdefaults": {
           "arrowcolor": "#2a3f5f",
           "arrowhead": 0,
           "arrowwidth": 1
          },
          "autotypenumbers": "strict",
          "coloraxis": {
           "colorbar": {
            "outlinewidth": 0,
            "ticks": ""
           }
          },
          "colorscale": {
           "diverging": [
            [
             0,
             "#8e0152"
            ],
            [
             0.1,
             "#c51b7d"
            ],
            [
             0.2,
             "#de77ae"
            ],
            [
             0.3,
             "#f1b6da"
            ],
            [
             0.4,
             "#fde0ef"
            ],
            [
             0.5,
             "#f7f7f7"
            ],
            [
             0.6,
             "#e6f5d0"
            ],
            [
             0.7,
             "#b8e186"
            ],
            [
             0.8,
             "#7fbc41"
            ],
            [
             0.9,
             "#4d9221"
            ],
            [
             1,
             "#276419"
            ]
           ],
           "sequential": [
            [
             0,
             "#0d0887"
            ],
            [
             0.1111111111111111,
             "#46039f"
            ],
            [
             0.2222222222222222,
             "#7201a8"
            ],
            [
             0.3333333333333333,
             "#9c179e"
            ],
            [
             0.4444444444444444,
             "#bd3786"
            ],
            [
             0.5555555555555556,
             "#d8576b"
            ],
            [
             0.6666666666666666,
             "#ed7953"
            ],
            [
             0.7777777777777778,
             "#fb9f3a"
            ],
            [
             0.8888888888888888,
             "#fdca26"
            ],
            [
             1,
             "#f0f921"
            ]
           ],
           "sequentialminus": [
            [
             0,
             "#0d0887"
            ],
            [
             0.1111111111111111,
             "#46039f"
            ],
            [
             0.2222222222222222,
             "#7201a8"
            ],
            [
             0.3333333333333333,
             "#9c179e"
            ],
            [
             0.4444444444444444,
             "#bd3786"
            ],
            [
             0.5555555555555556,
             "#d8576b"
            ],
            [
             0.6666666666666666,
             "#ed7953"
            ],
            [
             0.7777777777777778,
             "#fb9f3a"
            ],
            [
             0.8888888888888888,
             "#fdca26"
            ],
            [
             1,
             "#f0f921"
            ]
           ]
          },
          "colorway": [
           "#636efa",
           "#EF553B",
           "#00cc96",
           "#ab63fa",
           "#FFA15A",
           "#19d3f3",
           "#FF6692",
           "#B6E880",
           "#FF97FF",
           "#FECB52"
          ],
          "font": {
           "color": "#2a3f5f"
          },
          "geo": {
           "bgcolor": "white",
           "lakecolor": "white",
           "landcolor": "#E5ECF6",
           "showlakes": true,
           "showland": true,
           "subunitcolor": "white"
          },
          "hoverlabel": {
           "align": "left"
          },
          "hovermode": "closest",
          "mapbox": {
           "style": "light"
          },
          "paper_bgcolor": "white",
          "plot_bgcolor": "#E5ECF6",
          "polar": {
           "angularaxis": {
            "gridcolor": "white",
            "linecolor": "white",
            "ticks": ""
           },
           "bgcolor": "#E5ECF6",
           "radialaxis": {
            "gridcolor": "white",
            "linecolor": "white",
            "ticks": ""
           }
          },
          "scene": {
           "xaxis": {
            "backgroundcolor": "#E5ECF6",
            "gridcolor": "white",
            "gridwidth": 2,
            "linecolor": "white",
            "showbackground": true,
            "ticks": "",
            "zerolinecolor": "white"
           },
           "yaxis": {
            "backgroundcolor": "#E5ECF6",
            "gridcolor": "white",
            "gridwidth": 2,
            "linecolor": "white",
            "showbackground": true,
            "ticks": "",
            "zerolinecolor": "white"
           },
           "zaxis": {
            "backgroundcolor": "#E5ECF6",
            "gridcolor": "white",
            "gridwidth": 2,
            "linecolor": "white",
            "showbackground": true,
            "ticks": "",
            "zerolinecolor": "white"
           }
          },
          "shapedefaults": {
           "line": {
            "color": "#2a3f5f"
           }
          },
          "ternary": {
           "aaxis": {
            "gridcolor": "white",
            "linecolor": "white",
            "ticks": ""
           },
           "baxis": {
            "gridcolor": "white",
            "linecolor": "white",
            "ticks": ""
           },
           "bgcolor": "#E5ECF6",
           "caxis": {
            "gridcolor": "white",
            "linecolor": "white",
            "ticks": ""
           }
          },
          "title": {
           "x": 0.05
          },
          "xaxis": {
           "automargin": true,
           "gridcolor": "white",
           "linecolor": "white",
           "ticks": "",
           "title": {
            "standoff": 15
           },
           "zerolinecolor": "white",
           "zerolinewidth": 2
          },
          "yaxis": {
           "automargin": true,
           "gridcolor": "white",
           "linecolor": "white",
           "ticks": "",
           "title": {
            "standoff": 15
           },
           "zerolinecolor": "white",
           "zerolinewidth": 2
          }
         }
        },
        "title": {
         "text": "7 day average death rate"
        },
        "xaxis": {
         "anchor": "y",
         "domain": [
          0,
          1
         ],
         "title": {
          "text": "Date"
         }
        },
        "yaxis": {
         "anchor": "x",
         "domain": [
          0,
          1
         ],
         "title": {
          "text": "Death Rate (%)"
         }
        }
       }
      },
      "text/html": [
       "<div>                            <div id=\"ce608068-2436-453d-9be3-f0e1ade8dff2\" class=\"plotly-graph-div\" style=\"height:525px; width:100%;\"></div>            <script type=\"text/javascript\">                require([\"plotly\"], function(Plotly) {                    window.PLOTLYENV=window.PLOTLYENV || {};                                    if (document.getElementById(\"ce608068-2436-453d-9be3-f0e1ade8dff2\")) {                    Plotly.newPlot(                        \"ce608068-2436-453d-9be3-f0e1ade8dff2\",                        [{\"hovertemplate\":\"Date=%{x}<br>Death Rate (%)=%{y}<extra></extra>\",\"legendgroup\":\"\",\"line\":{\"color\":\"orange\",\"dash\":\"solid\"},\"marker\":{\"symbol\":\"circle\"},\"mode\":\"lines\",\"name\":\"\",\"orientation\":\"v\",\"showlegend\":false,\"type\":\"scatter\",\"x\":[\"2021-06-29T00:00:00\",\"2021-06-30T00:00:00\",\"2021-07-01T00:00:00\",\"2021-07-02T00:00:00\",\"2021-07-03T00:00:00\",\"2021-07-04T00:00:00\",\"2021-07-05T00:00:00\",\"2021-07-06T00:00:00\",\"2021-07-07T00:00:00\",\"2021-07-08T00:00:00\",\"2021-07-09T00:00:00\",\"2021-07-10T00:00:00\",\"2021-07-11T00:00:00\",\"2021-07-12T00:00:00\",\"2021-07-13T00:00:00\",\"2021-07-14T00:00:00\",\"2021-07-15T00:00:00\",\"2021-07-16T00:00:00\",\"2021-07-17T00:00:00\",\"2021-07-18T00:00:00\",\"2021-07-19T00:00:00\",\"2021-07-20T00:00:00\",\"2021-07-21T00:00:00\",\"2021-07-22T00:00:00\",\"2021-07-23T00:00:00\",\"2021-07-24T00:00:00\",\"2021-07-25T00:00:00\",\"2021-07-26T00:00:00\",\"2021-07-27T00:00:00\",\"2021-07-28T00:00:00\",\"2021-07-29T00:00:00\",\"2021-07-30T00:00:00\",\"2021-07-31T00:00:00\",\"2021-08-01T00:00:00\",\"2021-08-02T00:00:00\",\"2021-08-03T00:00:00\",\"2021-08-04T00:00:00\",\"2021-08-05T00:00:00\",\"2021-08-06T00:00:00\",\"2021-08-07T00:00:00\",\"2021-08-08T00:00:00\",\"2021-08-09T00:00:00\",\"2021-08-10T00:00:00\",\"2021-08-11T00:00:00\",\"2021-08-12T00:00:00\",\"2021-08-13T00:00:00\",\"2021-08-14T00:00:00\",\"2021-08-15T00:00:00\",\"2021-08-16T00:00:00\",\"2021-08-17T00:00:00\",\"2021-08-18T00:00:00\",\"2021-08-19T00:00:00\",\"2021-08-20T00:00:00\",\"2021-08-21T00:00:00\",\"2021-08-22T00:00:00\",\"2021-08-23T00:00:00\",\"2021-08-24T00:00:00\",\"2021-08-25T00:00:00\",\"2021-08-26T00:00:00\",\"2021-08-27T00:00:00\",\"2021-08-28T00:00:00\",\"2021-08-29T00:00:00\",\"2021-08-30T00:00:00\",\"2021-08-31T00:00:00\",\"2021-09-01T00:00:00\",\"2021-09-02T00:00:00\",\"2021-09-03T00:00:00\",\"2021-09-04T00:00:00\",\"2021-09-05T00:00:00\",\"2021-09-06T00:00:00\",\"2021-09-07T00:00:00\",\"2021-09-08T00:00:00\",\"2021-09-09T00:00:00\",\"2021-09-10T00:00:00\",\"2021-09-11T00:00:00\",\"2021-09-12T00:00:00\",\"2021-09-13T00:00:00\",\"2021-09-14T00:00:00\",\"2021-09-15T00:00:00\",\"2021-09-16T00:00:00\",\"2021-09-17T00:00:00\",\"2021-09-18T00:00:00\",\"2021-09-19T00:00:00\",\"2021-09-20T00:00:00\",\"2021-09-21T00:00:00\",\"2021-09-22T00:00:00\",\"2021-09-23T00:00:00\",\"2021-09-24T00:00:00\",\"2021-09-25T00:00:00\",\"2021-09-26T00:00:00\",\"2021-09-27T00:00:00\",\"2021-09-28T00:00:00\",\"2021-09-29T00:00:00\",\"2021-09-30T00:00:00\",\"2021-10-01T00:00:00\",\"2021-10-02T00:00:00\",\"2021-10-03T00:00:00\",\"2021-10-04T00:00:00\",\"2021-10-05T00:00:00\",\"2021-10-06T00:00:00\",\"2021-10-07T00:00:00\",\"2021-10-08T00:00:00\",\"2021-10-09T00:00:00\",\"2021-10-10T00:00:00\",\"2021-10-11T00:00:00\",\"2021-10-12T00:00:00\",\"2021-10-13T00:00:00\",\"2021-06-17T00:00:00\",\"2021-06-18T00:00:00\",\"2021-06-19T00:00:00\",\"2021-06-20T00:00:00\",\"2021-06-21T00:00:00\",\"2021-06-22T00:00:00\",\"2021-06-23T00:00:00\",\"2021-06-24T00:00:00\",\"2021-06-25T00:00:00\",\"2021-06-26T00:00:00\",\"2021-06-27T00:00:00\",\"2021-06-28T00:00:00\",\"2021-10-14T00:00:00\"],\"xaxis\":\"x\",\"y\":[0.03225806451612903,0.0,0.0,0.0,0.041666666666666664,0.0,0.0,1.056067588325653,1.4115646258503403,2.1837653980511122,2.4943244042622927,3.043774953712842,2.4485368584747467,2.5666006129021377,2.5666006129021377,1.907259953561478,1.1350591813607058,1.104612219967453,1.1817280865570037,1.326028230857148,1.8514651199304009,2.0679153363806173,1.9109294651090318,2.3105298647094314,2.2288305183042025,1.792740292740293,1.8525217810932098,1.5336964622678908,1.8167467453181738,2.5400740509239603,2.1967166209523574,2.233782729447037,2.1158228551419853,2.1478687313437055,2.0441065141794263,1.750649970722883,1.2089207280710916,1.1526777584422951,1.0064846658206312,1.0758794187128797,0.9531305946653543,0.8421075970444185,0.869617553028489,0.8565824904959013,0.972100395771219,1.0253155721160712,1.103668820233301,1.5177626628985723,1.5203584922660551,1.360951886219245,1.3224955732815737,1.3863900923166397,1.4128398305578584,1.2852195748928987,0.915891486007614,0.9570153777792072,1.0036410186578946,0.9827046368510138,0.8328999105421107,0.8453551773619353,0.9046867997368561,0.9011217763241589,0.8188216671870576,0.869371862130001,0.8074270582241013,0.8851500460657035,0.7559962143306197,0.6600795793048465,0.6344114497273942,0.6958237355573174,0.6252619014123301,0.7002235496261004,0.6626278707565186,0.750891029282428,0.7535806340943102,0.7947373757081009,0.7841154900862153,0.7979148422977568,0.747395155284841,0.7531888492176847,0.7255149718040823,0.7553598950930658,0.7311998132330236,0.7815945946925691,0.7491357410629055,0.7789653600499885,0.7710773517843367,0.7158978201795368,0.710119978203515,null,null,null,null,null,null,null,null,null,null,null,null,null,null,null,null,null,null,null,null,null,null,null,null,null,null,null,null,null,null,null],\"yaxis\":\"y\"},{\"customdata\":[[0.0],[0.0],[0.0],[0.0],[0.0],[0.0],[0.0],[29.0],[30.0],[31.0],[33.0],[34.0],[46.0],[59.0],[67.0],[75.0],[80.0],[88.0],[97.0],[96.0],[95.0],[94.0],[96.0],[106.0],[112.0],[117.0],[123.0],[132.0],[143.0],[150.0],[166.0],[171.0],[178.0],[193.0],[195.0],[205.0],[216.0],[215.0],[235.0],[250.0],[251.0],[260.0],[283.0],[298.0],[315.0],[327.0],[349.0],[359.0],[395.0],[425.0],[455.0],[493.0],[544.0],[589.0],[659.0],[693.0],[729.0],[781.0],[828.0],[854.0],[905.0],[947.0],[1013.0],[1049.0],[1091.0],[1144.0],[1204.0],[1261.0],[1277.0],[1274.0],[1302.0],[1329.0],[1344.0],[1367.0],[1357.0],[1363.0],[1361.0],[1356.0],[1327.0],[1311.0],[1274.0],[1250.0],[1224.0],[1187.0],[1158.0],[1148.0],[1110.0],[1070.0],[1034.0],[1011.0],[996.0],[966.0],[934.0],[922.0],[901.0],[871.0],[838.0],[813.0],[778.0],[726.0],[678.0],[654.0],[609.0],[584.0],[558.0],[526.0],[511.0],[null],[null],[null],[null],[null],[null],[null],[null],[null],[null],[null],[null],[null]],\"hovertemplate\":\"Date=%{x}<br>Cases=%{customdata[0]}<extra></extra>\",\"legendgroup\":\"\",\"line\":{\"color\":\"powderblue\"},\"marker\":{\"symbol\":\"circle\"},\"mode\":\"lines\",\"name\":\"\",\"orientation\":\"v\",\"showlegend\":false,\"stackgroup\":\"1\",\"type\":\"scatter\",\"x\":[\"2021-06-29T00:00:00\",\"2021-06-30T00:00:00\",\"2021-07-01T00:00:00\",\"2021-07-02T00:00:00\",\"2021-07-03T00:00:00\",\"2021-07-04T00:00:00\",\"2021-07-05T00:00:00\",\"2021-07-06T00:00:00\",\"2021-07-07T00:00:00\",\"2021-07-08T00:00:00\",\"2021-07-09T00:00:00\",\"2021-07-10T00:00:00\",\"2021-07-11T00:00:00\",\"2021-07-12T00:00:00\",\"2021-07-13T00:00:00\",\"2021-07-14T00:00:00\",\"2021-07-15T00:00:00\",\"2021-07-16T00:00:00\",\"2021-07-17T00:00:00\",\"2021-07-18T00:00:00\",\"2021-07-19T00:00:00\",\"2021-07-20T00:00:00\",\"2021-07-21T00:00:00\",\"2021-07-22T00:00:00\",\"2021-07-23T00:00:00\",\"2021-07-24T00:00:00\",\"2021-07-25T00:00:00\",\"2021-07-26T00:00:00\",\"2021-07-27T00:00:00\",\"2021-07-28T00:00:00\",\"2021-07-29T00:00:00\",\"2021-07-30T00:00:00\",\"2021-07-31T00:00:00\",\"2021-08-01T00:00:00\",\"2021-08-02T00:00:00\",\"2021-08-03T00:00:00\",\"2021-08-04T00:00:00\",\"2021-08-05T00:00:00\",\"2021-08-06T00:00:00\",\"2021-08-07T00:00:00\",\"2021-08-08T00:00:00\",\"2021-08-09T00:00:00\",\"2021-08-10T00:00:00\",\"2021-08-11T00:00:00\",\"2021-08-12T00:00:00\",\"2021-08-13T00:00:00\",\"2021-08-14T00:00:00\",\"2021-08-15T00:00:00\",\"2021-08-16T00:00:00\",\"2021-08-17T00:00:00\",\"2021-08-18T00:00:00\",\"2021-08-19T00:00:00\",\"2021-08-20T00:00:00\",\"2021-08-21T00:00:00\",\"2021-08-22T00:00:00\",\"2021-08-23T00:00:00\",\"2021-08-24T00:00:00\",\"2021-08-25T00:00:00\",\"2021-08-26T00:00:00\",\"2021-08-27T00:00:00\",\"2021-08-28T00:00:00\",\"2021-08-29T00:00:00\",\"2021-08-30T00:00:00\",\"2021-08-31T00:00:00\",\"2021-09-01T00:00:00\",\"2021-09-02T00:00:00\",\"2021-09-03T00:00:00\",\"2021-09-04T00:00:00\",\"2021-09-05T00:00:00\",\"2021-09-06T00:00:00\",\"2021-09-07T00:00:00\",\"2021-09-08T00:00:00\",\"2021-09-09T00:00:00\",\"2021-09-10T00:00:00\",\"2021-09-11T00:00:00\",\"2021-09-12T00:00:00\",\"2021-09-13T00:00:00\",\"2021-09-14T00:00:00\",\"2021-09-15T00:00:00\",\"2021-09-16T00:00:00\",\"2021-09-17T00:00:00\",\"2021-09-18T00:00:00\",\"2021-09-19T00:00:00\",\"2021-09-20T00:00:00\",\"2021-09-21T00:00:00\",\"2021-09-22T00:00:00\",\"2021-09-23T00:00:00\",\"2021-09-24T00:00:00\",\"2021-09-25T00:00:00\",\"2021-09-26T00:00:00\",\"2021-09-27T00:00:00\",\"2021-09-28T00:00:00\",\"2021-09-29T00:00:00\",\"2021-09-30T00:00:00\",\"2021-10-01T00:00:00\",\"2021-10-02T00:00:00\",\"2021-10-03T00:00:00\",\"2021-10-04T00:00:00\",\"2021-10-05T00:00:00\",\"2021-10-06T00:00:00\",\"2021-10-07T00:00:00\",\"2021-10-08T00:00:00\",\"2021-10-09T00:00:00\",\"2021-10-10T00:00:00\",\"2021-10-11T00:00:00\",\"2021-10-12T00:00:00\",\"2021-10-13T00:00:00\",\"2021-06-17T00:00:00\",\"2021-06-18T00:00:00\",\"2021-06-19T00:00:00\",\"2021-06-20T00:00:00\",\"2021-06-21T00:00:00\",\"2021-06-22T00:00:00\",\"2021-06-23T00:00:00\",\"2021-06-24T00:00:00\",\"2021-06-25T00:00:00\",\"2021-06-26T00:00:00\",\"2021-06-27T00:00:00\",\"2021-06-28T00:00:00\",\"2021-10-14T00:00:00\"],\"xaxis\":\"x\",\"y\":[0.0,0.0,0.0,0.0,0.0,0.0,0.0,0.058,0.06,0.062,0.066,0.068,0.092,0.118,0.134,0.15,0.16,0.176,0.194,0.192,0.19,0.188,0.192,0.212,0.224,0.234,0.246,0.264,0.286,0.3,0.332,0.342,0.356,0.386,0.39,0.41,0.432,0.43,0.47,0.5,0.502,0.52,0.566,0.596,0.63,0.654,0.698,0.718,0.79,0.85,0.91,0.986,1.088,1.178,1.318,1.386,1.458,1.562,1.656,1.708,1.81,1.894,2.026,2.098,2.182,2.288,2.408,2.522,2.554,2.548,2.604,2.658,2.688,2.734,2.714,2.726,2.722,2.712,2.654,2.622,2.548,2.5,2.448,2.374,2.316,2.296,2.22,2.14,2.068,2.022,1.992,1.932,1.868,1.844,1.802,1.742,1.676,1.626,1.556,1.452,1.356,1.308,1.218,1.168,1.116,1.052,1.022,null,null,null,null,null,null,null,null,null,null,null,null,null],\"yaxis\":\"y\"},{\"alignmentgroup\":\"True\",\"customdata\":[[8.94],[9.1],[9.26],[9.7],[9.92],[10.06],[10.12],[10.12],[10.61],[10.84],[11.09],[11.33],[11.48],[11.55],[11.82],[12.15],[12.45],[12.78],[13.09],[13.27],[13.36],[13.66],[13.98],[14.37],[14.73],[15.07],[15.31],[15.43],[15.72],[16.11],[16.69],[17.07],[17.51],[17.76],[17.9],[18.28],[18.74],[19.18],[19.66],[20.11],[20.47],[20.6],[21.03],[21.62],[22.14],[22.68],[23.24],[23.54],[23.75],[24.26],[24.8],[25.43],[26.01],[26.62],[26.99],[27.24],[27.83],[28.45],[29.12],[29.78],[30.43],[30.76],[31.07],[31.78],[32.37],[33.03],[33.6],[34.22],[34.65],[34.86],[35.37],[35.94],[36.53],[37.15],[37.79],[38.15],[38.35],[38.98],[39.56],[40.17],[40.73],[41.47],[41.88],[42.11],[42.75],[43.43],[44.08],[44.74],[45.49],[45.93],[46.14],[46.8],[47.48],[48.08],[48.71],[49.38],[49.72],[49.89],[50.01],[50.75],[51.38],[51.98],[52.63],[53.02],[53.24],[53.88],[54.54],[7.01],[7.15],[7.28],[7.33],[7.68],[7.8],[7.94],[8.07],[8.22],[8.34],[8.41],[8.81],[55.15]],\"hovertemplate\":\"Date=%{x}<br>Vaccination Level (%)=%{customdata[0]}<extra></extra>\",\"legendgroup\":\"\",\"marker\":{\"color\":\"plum\",\"pattern\":{\"shape\":\"\"}},\"name\":\"\",\"offsetgroup\":\"\",\"orientation\":\"v\",\"showlegend\":false,\"textposition\":\"auto\",\"type\":\"bar\",\"x\":[\"2021-06-29T00:00:00\",\"2021-06-30T00:00:00\",\"2021-07-01T00:00:00\",\"2021-07-02T00:00:00\",\"2021-07-03T00:00:00\",\"2021-07-04T00:00:00\",\"2021-07-05T00:00:00\",\"2021-07-06T00:00:00\",\"2021-07-07T00:00:00\",\"2021-07-08T00:00:00\",\"2021-07-09T00:00:00\",\"2021-07-10T00:00:00\",\"2021-07-11T00:00:00\",\"2021-07-12T00:00:00\",\"2021-07-13T00:00:00\",\"2021-07-14T00:00:00\",\"2021-07-15T00:00:00\",\"2021-07-16T00:00:00\",\"2021-07-17T00:00:00\",\"2021-07-18T00:00:00\",\"2021-07-19T00:00:00\",\"2021-07-20T00:00:00\",\"2021-07-21T00:00:00\",\"2021-07-22T00:00:00\",\"2021-07-23T00:00:00\",\"2021-07-24T00:00:00\",\"2021-07-25T00:00:00\",\"2021-07-26T00:00:00\",\"2021-07-27T00:00:00\",\"2021-07-28T00:00:00\",\"2021-07-29T00:00:00\",\"2021-07-30T00:00:00\",\"2021-07-31T00:00:00\",\"2021-08-01T00:00:00\",\"2021-08-02T00:00:00\",\"2021-08-03T00:00:00\",\"2021-08-04T00:00:00\",\"2021-08-05T00:00:00\",\"2021-08-06T00:00:00\",\"2021-08-07T00:00:00\",\"2021-08-08T00:00:00\",\"2021-08-09T00:00:00\",\"2021-08-10T00:00:00\",\"2021-08-11T00:00:00\",\"2021-08-12T00:00:00\",\"2021-08-13T00:00:00\",\"2021-08-14T00:00:00\",\"2021-08-15T00:00:00\",\"2021-08-16T00:00:00\",\"2021-08-17T00:00:00\",\"2021-08-18T00:00:00\",\"2021-08-19T00:00:00\",\"2021-08-20T00:00:00\",\"2021-08-21T00:00:00\",\"2021-08-22T00:00:00\",\"2021-08-23T00:00:00\",\"2021-08-24T00:00:00\",\"2021-08-25T00:00:00\",\"2021-08-26T00:00:00\",\"2021-08-27T00:00:00\",\"2021-08-28T00:00:00\",\"2021-08-29T00:00:00\",\"2021-08-30T00:00:00\",\"2021-08-31T00:00:00\",\"2021-09-01T00:00:00\",\"2021-09-02T00:00:00\",\"2021-09-03T00:00:00\",\"2021-09-04T00:00:00\",\"2021-09-05T00:00:00\",\"2021-09-06T00:00:00\",\"2021-09-07T00:00:00\",\"2021-09-08T00:00:00\",\"2021-09-09T00:00:00\",\"2021-09-10T00:00:00\",\"2021-09-11T00:00:00\",\"2021-09-12T00:00:00\",\"2021-09-13T00:00:00\",\"2021-09-14T00:00:00\",\"2021-09-15T00:00:00\",\"2021-09-16T00:00:00\",\"2021-09-17T00:00:00\",\"2021-09-18T00:00:00\",\"2021-09-19T00:00:00\",\"2021-09-20T00:00:00\",\"2021-09-21T00:00:00\",\"2021-09-22T00:00:00\",\"2021-09-23T00:00:00\",\"2021-09-24T00:00:00\",\"2021-09-25T00:00:00\",\"2021-09-26T00:00:00\",\"2021-09-27T00:00:00\",\"2021-09-28T00:00:00\",\"2021-09-29T00:00:00\",\"2021-09-30T00:00:00\",\"2021-10-01T00:00:00\",\"2021-10-02T00:00:00\",\"2021-10-03T00:00:00\",\"2021-10-04T00:00:00\",\"2021-10-05T00:00:00\",\"2021-10-06T00:00:00\",\"2021-10-07T00:00:00\",\"2021-10-08T00:00:00\",\"2021-10-09T00:00:00\",\"2021-10-10T00:00:00\",\"2021-10-11T00:00:00\",\"2021-10-12T00:00:00\",\"2021-10-13T00:00:00\",\"2021-06-17T00:00:00\",\"2021-06-18T00:00:00\",\"2021-06-19T00:00:00\",\"2021-06-20T00:00:00\",\"2021-06-21T00:00:00\",\"2021-06-22T00:00:00\",\"2021-06-23T00:00:00\",\"2021-06-24T00:00:00\",\"2021-06-25T00:00:00\",\"2021-06-26T00:00:00\",\"2021-06-27T00:00:00\",\"2021-06-28T00:00:00\",\"2021-10-14T00:00:00\"],\"xaxis\":\"x\",\"y\":[-0.08942546330312678,-0.09099055705227638,-0.09263909298718263,-0.09698771328271695,-0.09916020355403161,-0.10063100389147414,-0.10121513320815305,-0.10121513320815305,-0.10608365989060331,-0.10844514518191962,-0.11094756034506217,-0.11330108580292268,-0.1148283873513484,-0.11553643834870875,-0.11821822189566496,-0.12154965031159005,-0.1245427517892617,-0.12782383595939803,-0.13086360791357118,-0.13267429994285249,-0.13356685579775218,-0.1366021375894631,-0.1397985890004626,-0.14370462214602553,-0.1472900508885079,-0.15074441451002804,-0.1531156284866792,-0.15432079489482134,-0.15722405910686588,-0.161122370533649,-0.16686644487985414,-0.17072254197621572,-0.17506276022532452,-0.17758544915231175,-0.17895515280158925,-0.1827773695811903,-0.18744179796990232,-0.19176351130704547,-0.19655890276757287,-0.201096892263314,-0.20474253000244919,-0.2059619492747707,-0.21030033063923587,-0.21616621765042043,-0.22139735896807902,-0.2267977658040112,-0.23235478406400523,-0.23537496258197949,-0.23746996353443817,-0.2426440593789969,-0.2479806514817536,-0.2542954186736332,-0.2600902454622146,-0.2661776131384875,-0.26991046888181347,-0.27243237543200804,-0.27829574523090317,-0.2844601940294446,-0.2911749938770512,-0.2977990380167089,-0.3042846694968297,-0.3076026954581327,-0.3106592715051569,-0.31780240563855555,-0.3236956758374833,-0.33030427653958144,-0.33595126813073173,-0.3421585775709582,-0.34650910278390074,-0.3486173020926878,-0.35369489346069066,-0.3593911747897788,-0.36525059868832827,-0.37152121261599585,-0.3779416687076496,-0.3814874003319999,-0.3835283492530002,-0.3898287955479359,-0.395617839551528,-0.4017229637793561,-0.407316481617547,-0.4146860968242306,-0.41881361063488176,-0.42111662176504205,-0.4275163958962636,-0.4343354559555882,-0.44081288948757724,-0.44737971807222354,-0.4548798541377528,-0.4592600076196697,-0.46140991101314394,-0.46800830680055516,-0.4748397148066508,-0.48075152393392656,-0.48713445995591476,-0.493846164312733,-0.4972404550031295,-0.4988830380711351,-0.5000722848123657,-0.5075292881051514,-0.5137994258034669,-0.5198393066100634,-0.5262819753993523,-0.530189743380412,-0.532409244292051,-0.538761157373391,-0.5453936375758565,-0.07006224997959017,-0.07148382861185948,-0.07275930688219447,-0.0733470079190138,-0.07677174327155958,-0.07803834326611697,-0.0793748129098974,-0.08072618172912074,-0.08218909026587205,-0.08340959806242687,-0.08409836177102892,-0.08812960921980025,-0.5514893392657904],\"yaxis\":\"y\"}],                        {\"legend\":{\"tracegroupgap\":0},\"template\":{\"data\":{\"bar\":[{\"error_x\":{\"color\":\"#2a3f5f\"},\"error_y\":{\"color\":\"#2a3f5f\"},\"marker\":{\"line\":{\"color\":\"#E5ECF6\",\"width\":0.5},\"pattern\":{\"fillmode\":\"overlay\",\"size\":10,\"solidity\":0.2}},\"type\":\"bar\"}],\"barpolar\":[{\"marker\":{\"line\":{\"color\":\"#E5ECF6\",\"width\":0.5},\"pattern\":{\"fillmode\":\"overlay\",\"size\":10,\"solidity\":0.2}},\"type\":\"barpolar\"}],\"carpet\":[{\"aaxis\":{\"endlinecolor\":\"#2a3f5f\",\"gridcolor\":\"white\",\"linecolor\":\"white\",\"minorgridcolor\":\"white\",\"startlinecolor\":\"#2a3f5f\"},\"baxis\":{\"endlinecolor\":\"#2a3f5f\",\"gridcolor\":\"white\",\"linecolor\":\"white\",\"minorgridcolor\":\"white\",\"startlinecolor\":\"#2a3f5f\"},\"type\":\"carpet\"}],\"choropleth\":[{\"colorbar\":{\"outlinewidth\":0,\"ticks\":\"\"},\"type\":\"choropleth\"}],\"contour\":[{\"colorbar\":{\"outlinewidth\":0,\"ticks\":\"\"},\"colorscale\":[[0.0,\"#0d0887\"],[0.1111111111111111,\"#46039f\"],[0.2222222222222222,\"#7201a8\"],[0.3333333333333333,\"#9c179e\"],[0.4444444444444444,\"#bd3786\"],[0.5555555555555556,\"#d8576b\"],[0.6666666666666666,\"#ed7953\"],[0.7777777777777778,\"#fb9f3a\"],[0.8888888888888888,\"#fdca26\"],[1.0,\"#f0f921\"]],\"type\":\"contour\"}],\"contourcarpet\":[{\"colorbar\":{\"outlinewidth\":0,\"ticks\":\"\"},\"type\":\"contourcarpet\"}],\"heatmap\":[{\"colorbar\":{\"outlinewidth\":0,\"ticks\":\"\"},\"colorscale\":[[0.0,\"#0d0887\"],[0.1111111111111111,\"#46039f\"],[0.2222222222222222,\"#7201a8\"],[0.3333333333333333,\"#9c179e\"],[0.4444444444444444,\"#bd3786\"],[0.5555555555555556,\"#d8576b\"],[0.6666666666666666,\"#ed7953\"],[0.7777777777777778,\"#fb9f3a\"],[0.8888888888888888,\"#fdca26\"],[1.0,\"#f0f921\"]],\"type\":\"heatmap\"}],\"heatmapgl\":[{\"colorbar\":{\"outlinewidth\":0,\"ticks\":\"\"},\"colorscale\":[[0.0,\"#0d0887\"],[0.1111111111111111,\"#46039f\"],[0.2222222222222222,\"#7201a8\"],[0.3333333333333333,\"#9c179e\"],[0.4444444444444444,\"#bd3786\"],[0.5555555555555556,\"#d8576b\"],[0.6666666666666666,\"#ed7953\"],[0.7777777777777778,\"#fb9f3a\"],[0.8888888888888888,\"#fdca26\"],[1.0,\"#f0f921\"]],\"type\":\"heatmapgl\"}],\"histogram\":[{\"marker\":{\"pattern\":{\"fillmode\":\"overlay\",\"size\":10,\"solidity\":0.2}},\"type\":\"histogram\"}],\"histogram2d\":[{\"colorbar\":{\"outlinewidth\":0,\"ticks\":\"\"},\"colorscale\":[[0.0,\"#0d0887\"],[0.1111111111111111,\"#46039f\"],[0.2222222222222222,\"#7201a8\"],[0.3333333333333333,\"#9c179e\"],[0.4444444444444444,\"#bd3786\"],[0.5555555555555556,\"#d8576b\"],[0.6666666666666666,\"#ed7953\"],[0.7777777777777778,\"#fb9f3a\"],[0.8888888888888888,\"#fdca26\"],[1.0,\"#f0f921\"]],\"type\":\"histogram2d\"}],\"histogram2dcontour\":[{\"colorbar\":{\"outlinewidth\":0,\"ticks\":\"\"},\"colorscale\":[[0.0,\"#0d0887\"],[0.1111111111111111,\"#46039f\"],[0.2222222222222222,\"#7201a8\"],[0.3333333333333333,\"#9c179e\"],[0.4444444444444444,\"#bd3786\"],[0.5555555555555556,\"#d8576b\"],[0.6666666666666666,\"#ed7953\"],[0.7777777777777778,\"#fb9f3a\"],[0.8888888888888888,\"#fdca26\"],[1.0,\"#f0f921\"]],\"type\":\"histogram2dcontour\"}],\"mesh3d\":[{\"colorbar\":{\"outlinewidth\":0,\"ticks\":\"\"},\"type\":\"mesh3d\"}],\"parcoords\":[{\"line\":{\"colorbar\":{\"outlinewidth\":0,\"ticks\":\"\"}},\"type\":\"parcoords\"}],\"pie\":[{\"automargin\":true,\"type\":\"pie\"}],\"scatter\":[{\"marker\":{\"colorbar\":{\"outlinewidth\":0,\"ticks\":\"\"}},\"type\":\"scatter\"}],\"scatter3d\":[{\"line\":{\"colorbar\":{\"outlinewidth\":0,\"ticks\":\"\"}},\"marker\":{\"colorbar\":{\"outlinewidth\":0,\"ticks\":\"\"}},\"type\":\"scatter3d\"}],\"scattercarpet\":[{\"marker\":{\"colorbar\":{\"outlinewidth\":0,\"ticks\":\"\"}},\"type\":\"scattercarpet\"}],\"scattergeo\":[{\"marker\":{\"colorbar\":{\"outlinewidth\":0,\"ticks\":\"\"}},\"type\":\"scattergeo\"}],\"scattergl\":[{\"marker\":{\"colorbar\":{\"outlinewidth\":0,\"ticks\":\"\"}},\"type\":\"scattergl\"}],\"scattermapbox\":[{\"marker\":{\"colorbar\":{\"outlinewidth\":0,\"ticks\":\"\"}},\"type\":\"scattermapbox\"}],\"scatterpolar\":[{\"marker\":{\"colorbar\":{\"outlinewidth\":0,\"ticks\":\"\"}},\"type\":\"scatterpolar\"}],\"scatterpolargl\":[{\"marker\":{\"colorbar\":{\"outlinewidth\":0,\"ticks\":\"\"}},\"type\":\"scatterpolargl\"}],\"scatterternary\":[{\"marker\":{\"colorbar\":{\"outlinewidth\":0,\"ticks\":\"\"}},\"type\":\"scatterternary\"}],\"surface\":[{\"colorbar\":{\"outlinewidth\":0,\"ticks\":\"\"},\"colorscale\":[[0.0,\"#0d0887\"],[0.1111111111111111,\"#46039f\"],[0.2222222222222222,\"#7201a8\"],[0.3333333333333333,\"#9c179e\"],[0.4444444444444444,\"#bd3786\"],[0.5555555555555556,\"#d8576b\"],[0.6666666666666666,\"#ed7953\"],[0.7777777777777778,\"#fb9f3a\"],[0.8888888888888888,\"#fdca26\"],[1.0,\"#f0f921\"]],\"type\":\"surface\"}],\"table\":[{\"cells\":{\"fill\":{\"color\":\"#EBF0F8\"},\"line\":{\"color\":\"white\"}},\"header\":{\"fill\":{\"color\":\"#C8D4E3\"},\"line\":{\"color\":\"white\"}},\"type\":\"table\"}]},\"layout\":{\"annotationdefaults\":{\"arrowcolor\":\"#2a3f5f\",\"arrowhead\":0,\"arrowwidth\":1},\"autotypenumbers\":\"strict\",\"coloraxis\":{\"colorbar\":{\"outlinewidth\":0,\"ticks\":\"\"}},\"colorscale\":{\"diverging\":[[0,\"#8e0152\"],[0.1,\"#c51b7d\"],[0.2,\"#de77ae\"],[0.3,\"#f1b6da\"],[0.4,\"#fde0ef\"],[0.5,\"#f7f7f7\"],[0.6,\"#e6f5d0\"],[0.7,\"#b8e186\"],[0.8,\"#7fbc41\"],[0.9,\"#4d9221\"],[1,\"#276419\"]],\"sequential\":[[0.0,\"#0d0887\"],[0.1111111111111111,\"#46039f\"],[0.2222222222222222,\"#7201a8\"],[0.3333333333333333,\"#9c179e\"],[0.4444444444444444,\"#bd3786\"],[0.5555555555555556,\"#d8576b\"],[0.6666666666666666,\"#ed7953\"],[0.7777777777777778,\"#fb9f3a\"],[0.8888888888888888,\"#fdca26\"],[1.0,\"#f0f921\"]],\"sequentialminus\":[[0.0,\"#0d0887\"],[0.1111111111111111,\"#46039f\"],[0.2222222222222222,\"#7201a8\"],[0.3333333333333333,\"#9c179e\"],[0.4444444444444444,\"#bd3786\"],[0.5555555555555556,\"#d8576b\"],[0.6666666666666666,\"#ed7953\"],[0.7777777777777778,\"#fb9f3a\"],[0.8888888888888888,\"#fdca26\"],[1.0,\"#f0f921\"]]},\"colorway\":[\"#636efa\",\"#EF553B\",\"#00cc96\",\"#ab63fa\",\"#FFA15A\",\"#19d3f3\",\"#FF6692\",\"#B6E880\",\"#FF97FF\",\"#FECB52\"],\"font\":{\"color\":\"#2a3f5f\"},\"geo\":{\"bgcolor\":\"white\",\"lakecolor\":\"white\",\"landcolor\":\"#E5ECF6\",\"showlakes\":true,\"showland\":true,\"subunitcolor\":\"white\"},\"hoverlabel\":{\"align\":\"left\"},\"hovermode\":\"closest\",\"mapbox\":{\"style\":\"light\"},\"paper_bgcolor\":\"white\",\"plot_bgcolor\":\"#E5ECF6\",\"polar\":{\"angularaxis\":{\"gridcolor\":\"white\",\"linecolor\":\"white\",\"ticks\":\"\"},\"bgcolor\":\"#E5ECF6\",\"radialaxis\":{\"gridcolor\":\"white\",\"linecolor\":\"white\",\"ticks\":\"\"}},\"scene\":{\"xaxis\":{\"backgroundcolor\":\"#E5ECF6\",\"gridcolor\":\"white\",\"gridwidth\":2,\"linecolor\":\"white\",\"showbackground\":true,\"ticks\":\"\",\"zerolinecolor\":\"white\"},\"yaxis\":{\"backgroundcolor\":\"#E5ECF6\",\"gridcolor\":\"white\",\"gridwidth\":2,\"linecolor\":\"white\",\"showbackground\":true,\"ticks\":\"\",\"zerolinecolor\":\"white\"},\"zaxis\":{\"backgroundcolor\":\"#E5ECF6\",\"gridcolor\":\"white\",\"gridwidth\":2,\"linecolor\":\"white\",\"showbackground\":true,\"ticks\":\"\",\"zerolinecolor\":\"white\"}},\"shapedefaults\":{\"line\":{\"color\":\"#2a3f5f\"}},\"ternary\":{\"aaxis\":{\"gridcolor\":\"white\",\"linecolor\":\"white\",\"ticks\":\"\"},\"baxis\":{\"gridcolor\":\"white\",\"linecolor\":\"white\",\"ticks\":\"\"},\"bgcolor\":\"#E5ECF6\",\"caxis\":{\"gridcolor\":\"white\",\"linecolor\":\"white\",\"ticks\":\"\"}},\"title\":{\"x\":0.05},\"xaxis\":{\"automargin\":true,\"gridcolor\":\"white\",\"linecolor\":\"white\",\"ticks\":\"\",\"title\":{\"standoff\":15},\"zerolinecolor\":\"white\",\"zerolinewidth\":2},\"yaxis\":{\"automargin\":true,\"gridcolor\":\"white\",\"linecolor\":\"white\",\"ticks\":\"\",\"title\":{\"standoff\":15},\"zerolinecolor\":\"white\",\"zerolinewidth\":2}}},\"title\":{\"text\":\"7 day average death rate\"},\"xaxis\":{\"anchor\":\"y\",\"domain\":[0.0,1.0],\"title\":{\"text\":\"Date\"}},\"yaxis\":{\"anchor\":\"x\",\"domain\":[0.0,1.0],\"title\":{\"text\":\"Death Rate (%)\"}}},                        {\"responsive\": true}                    ).then(function(){\n",
       "                            \n",
       "var gd = document.getElementById('ce608068-2436-453d-9be3-f0e1ade8dff2');\n",
       "var x = new MutationObserver(function (mutations, observer) {{\n",
       "        var display = window.getComputedStyle(gd).display;\n",
       "        if (!display || display === 'none') {{\n",
       "            console.log([gd, 'removed!']);\n",
       "            Plotly.purge(gd);\n",
       "            observer.disconnect();\n",
       "        }}\n",
       "}});\n",
       "\n",
       "// Listen for the removal of the full notebook cells\n",
       "var notebookContainer = gd.closest('#notebook-container');\n",
       "if (notebookContainer) {{\n",
       "    x.observe(notebookContainer, {childList: true});\n",
       "}}\n",
       "\n",
       "// Listen for the clearing of the current output cell\n",
       "var outputEl = gd.closest('.output');\n",
       "if (outputEl) {{\n",
       "    x.observe(outputEl, {childList: true});\n",
       "}}\n",
       "\n",
       "                        })                };                });            </script>        </div>"
      ]
     },
     "metadata": {},
     "output_type": "display_data"
    }
   ],
   "source": [
    "fig=px.line(\n",
    "    rates,\n",
    "    x=\"DATE\",\n",
    "    y=\"AVG_DEATH_RATE\",\n",
    "    title='7 day average death rate',\n",
    "    color_discrete_sequence=[\"orange\"],\n",
    "    labels={\"DATE\":\"Date\",\"AVG_DEATH_RATE\":\"Death Rate (%)\"}\n",
    ")\n",
    "\n",
    "fig.add_trace(px.area(\n",
    "    rates, \n",
    "    x=\"DATE\",\n",
    "    y=\"AVG_CASES_SCALED\", \n",
    "    labels={\"DATE\":\"Date\",\"AVG_CASES\":\"Cases\"},\n",
    "    hover_data={\"AVG_CASES\":True,\"AVG_CASES_SCALED\":False},\n",
    "    color_discrete_sequence=[\"powderblue\"]).data[0]\n",
    ")\n",
    "          \n",
    "    \n",
    "fig.add_trace(px.bar(\n",
    "    rates,x=\"DATE\",\n",
    "    y=\"VAX_INDEX\",\n",
    "    labels={\"DATE\":\"Date\",\"VAX_INDEX\":\"Vaccination Level (%)\",\"VAX_HOVER\":\"Vaccination Level (%)\"},\n",
    "    hover_data={\"VAX_INDEX\":False,\"VAX_HOVER\":True},\n",
    "    color_discrete_sequence=[\"plum\"]).data[0],\n",
    ")\n",
    "              \n",
    "fig.show()"
   ]
  },
  {
   "cell_type": "raw",
   "id": "7a68ba1d",
   "metadata": {},
   "source": [
    "The lags used are based on Mike Honey's work available at https://github.com/Mike-Honey/covid-19-hospitalisations\n",
    "\n",
    "NSW Health reports an 11 day median lag between symptom onset and death (---WEEEKLY SURVEILANCE REPORT LINK) and analysis of various European countries has given a mean of 8 days +/- 2 days. A 20 day lag may seem excessively long with these figures, however, the distribution of death lag is fairly flat (---THAT REPORT WITH THE DISTRIBUTION FIGURES). The compounding effect of increasing cases and a flat distribution means the observed lag lengthens as cases increase - those at the end of the distribution add to those at the beginning of the next (---NEED A VISUAL FOR THIS). The same effect causes a sudden drop as cases fall."
   ]
  }
 ],
 "metadata": {
  "kernelspec": {
   "display_name": "Python 3",
   "language": "python",
   "name": "python3"
  },
  "language_info": {
   "codemirror_mode": {
    "name": "ipython",
    "version": 3
   },
   "file_extension": ".py",
   "mimetype": "text/x-python",
   "name": "python",
   "nbconvert_exporter": "python",
   "pygments_lexer": "ipython3",
   "version": "3.8.8"
  }
 },
 "nbformat": 4,
 "nbformat_minor": 5
}
